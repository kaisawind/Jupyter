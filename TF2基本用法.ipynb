{
 "cells": [
  {
   "cell_type": "markdown",
   "id": "fd928e4a",
   "metadata": {},
   "source": [
    "## tf版本"
   ]
  },
  {
   "cell_type": "code",
   "execution_count": 7,
   "id": "3ecfe7a3",
   "metadata": {},
   "outputs": [
    {
     "name": "stdout",
     "output_type": "stream",
     "text": [
      "Num GPUs Available:  1\n",
      "Num CPUs Available:  1\n"
     ]
    }
   ],
   "source": [
    "import tensorflow as tf\n",
    "\n",
    "tf.__version__\n",
    "\n",
    "print(\"Num GPUs Available: \", len(tf.config.experimental.list_physical_devices('GPU')))\n",
    "print(\"Num CPUs Available: \", len(tf.config.experimental.list_physical_devices('CPU')))"
   ]
  },
  {
   "cell_type": "markdown",
   "id": "d21a026b",
   "metadata": {},
   "source": [
    "## 1.矩阵相加"
   ]
  },
  {
   "cell_type": "code",
   "execution_count": 5,
   "id": "d8f60b94",
   "metadata": {},
   "outputs": [
    {
     "name": "stdout",
     "output_type": "stream",
     "text": [
      "[[2 3 4]\n",
      " [5 6 7]]\n"
     ]
    }
   ],
   "source": [
    "input1 = tf.ones([2, 3])\n",
    "input2 = tf.reshape(tf.range(1, 7, dtype=tf.float32), (2, 3))\n",
    "output = input1 + input2\n",
    "\n",
    "tf.print(output)"
   ]
  },
  {
   "cell_type": "markdown",
   "id": "a9d868e5",
   "metadata": {},
   "source": [
    "### tf.ones 用法"
   ]
  },
  {
   "cell_type": "code",
   "execution_count": 6,
   "id": "50016540",
   "metadata": {},
   "outputs": [
    {
     "name": "stdout",
     "output_type": "stream",
     "text": [
      "[[1 1 1]\n",
      " [1 1 1]]\n"
     ]
    }
   ],
   "source": [
    "input1 = tf.ones([2, 3], 'int32')\n",
    "output = input1\n",
    "\n",
    "tf.print(output)"
   ]
  },
  {
   "cell_type": "markdown",
   "id": "bac3f5f9",
   "metadata": {},
   "source": [
    "### tf.range"
   ]
  },
  {
   "cell_type": "code",
   "execution_count": 7,
   "id": "2da8d7c7",
   "metadata": {},
   "outputs": [
    {
     "name": "stdout",
     "output_type": "stream",
     "text": [
      "[0 2 4 6 8]\n"
     ]
    }
   ],
   "source": [
    "output = tf.range(0, 9, 2)\n",
    "\n",
    "tf.print(output)"
   ]
  },
  {
   "cell_type": "markdown",
   "id": "6bfe4b52",
   "metadata": {},
   "source": [
    "### tf.reshape"
   ]
  },
  {
   "cell_type": "code",
   "execution_count": 8,
   "id": "24c212af",
   "metadata": {},
   "outputs": [
    {
     "name": "stdout",
     "output_type": "stream",
     "text": [
      "[[1 2 3]\n",
      " [4 5 6]]\n"
     ]
    }
   ],
   "source": [
    "input1 = tf.range(1, 7)\n",
    "output = tf.reshape(input1, [2, 3])\n",
    "\n",
    "tf.print(output)"
   ]
  },
  {
   "cell_type": "markdown",
   "id": "9f94f591",
   "metadata": {},
   "source": [
    "## 2.矩阵乘法"
   ]
  },
  {
   "cell_type": "code",
   "execution_count": 9,
   "id": "306ed45a",
   "metadata": {},
   "outputs": [
    {
     "name": "stdout",
     "output_type": "stream",
     "text": [
      "[[3 3 3]\n",
      " [3 3 3]]\n"
     ]
    }
   ],
   "source": [
    "input1 = tf.ones([2, 3], 'int32')\n",
    "output = input1 * 3\n",
    "\n",
    "tf.print(output)"
   ]
  },
  {
   "cell_type": "code",
   "execution_count": 15,
   "id": "a1675360",
   "metadata": {},
   "outputs": [
    {
     "name": "stdout",
     "output_type": "stream",
     "text": [
      "[[12 12 12]\n",
      " [12 12 12]]\n"
     ]
    }
   ],
   "source": [
    "input1 = tf.ones([2, 3], 'int32')\n",
    "output = (input1 * 3) * (input1 * 4)\n",
    "\n",
    "tf.print(output)"
   ]
  },
  {
   "cell_type": "markdown",
   "id": "bc23f032",
   "metadata": {},
   "source": [
    "## 3.显卡支持"
   ]
  },
  {
   "cell_type": "code",
   "execution_count": 3,
   "id": "50492eee",
   "metadata": {},
   "outputs": [
    {
     "name": "stdout",
     "output_type": "stream",
     "text": [
      "Found GPU at: /device:GPU:0\n"
     ]
    }
   ],
   "source": [
    "device_name = tf.test.gpu_device_name()\n",
    "print('Found GPU at: {}'.format(device_name))"
   ]
  },
  {
   "cell_type": "markdown",
   "id": "12950a9a",
   "metadata": {},
   "source": [
    "## 4.比较GPU和CPU速度"
   ]
  },
  {
   "cell_type": "code",
   "execution_count": null,
   "id": "c505c357",
   "metadata": {},
   "outputs": [],
   "source": []
  },
  {
   "cell_type": "markdown",
   "id": "e5986353",
   "metadata": {},
   "source": [
    "## 5.画图支持"
   ]
  },
  {
   "cell_type": "code",
   "execution_count": 18,
   "id": "c095f3dd",
   "metadata": {},
   "outputs": [
    {
     "data": {
      "image/png": "[encoded data removed]",
      "text/plain": [
       "<Figure size 432x288 with 1 Axes>"
      ]
     },
     "metadata": {
      "needs_background": "light"
     },
     "output_type": "display_data"
    }
   ],
   "source": [
    "import matplotlib.pyplot as plt\n",
    "import numpy as np\n",
    "\n",
    "x = np.arange(20)\n",
    "y = [x_i + np.random.randn(1) for x_i in x]\n",
    "a, b = np.polyfit(x, y, 1)\n",
    "_ = plt.plot(x, y, 'o', np.arange(20), a*np.arange(20)+b, '-')"
   ]
  },
  {
   "cell_type": "code",
   "execution_count": null,
   "id": "fa72cbb4",
   "metadata": {},
   "outputs": [],
   "source": []
  }
 ],
 "metadata": {
  "kernelspec": {
   "display_name": "Python 3",
   "language": "python",
   "name": "python3"
  },
  "language_info": {
   "codemirror_mode": {
    "name": "ipython",
    "version": 3
   },
   "file_extension": ".py",
   "mimetype": "text/x-python",
   "name": "python",
   "nbconvert_exporter": "python",
   "pygments_lexer": "ipython3",
   "version": "3.8.10"
  }
 },
 "nbformat": 4,
 "nbformat_minor": 5
}
