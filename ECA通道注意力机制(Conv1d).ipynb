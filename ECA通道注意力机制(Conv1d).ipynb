{
 "cells": [
  {
   "cell_type": "markdown",
   "metadata": {},
   "source": [
    "# ECA通道注意力机制"
   ]
  },
  {
   "cell_type": "markdown",
   "metadata": {},
   "source": [
    "## 1. 计算过程\n",
    "\n",
    "* 1. 全局平均池化\n",
    "\n",
    "    将每个通道的二维特征(H*W)压缩为1个实数，将特征图从 (B, C, H, W) ----> (B, C, 1, 1)\n",
    "\n",
    "* 2. 计算自适应卷积核的大小\n",
    "\n",
    "    $k = |\\frac{log_2(C)}{r} + \\frac{b}{r}|$ 其中C为输入的通道数，b=1， r=2\n",
    "\n",
    "* 3. 给每个特征通道生成一个权重值\n",
    "\n",
    "    通过两个1x1卷积层构建通道间的相关性，输出的权重值数目和输入特征图的通道数相同\n",
    "\n",
    "* 3. 归一化权重加权到每个通道的特征上\n",
    "\n",
    "    逐通道乘以权重系数"
   ]
  },
  {
   "cell_type": "markdown",
   "metadata": {},
   "source": [
    "## 2. 代码实现"
   ]
  },
  {
   "cell_type": "code",
   "execution_count": 1,
   "metadata": {},
   "outputs": [],
   "source": [
    "from torch import nn\n",
    "import torch\n",
    "import math\n",
    "\n",
    "class ECABlock(nn.Module):\n",
    "    \"\"\"通道注意力机制\n",
    "\n",
    "    Args:\n",
    "        nn (_type_): _description_\n",
    "    \"\"\"\n",
    "\n",
    "    def __init__(self, channel, gamma=2,b=1, bias=False):\n",
    "        super(ECABlock, self).__init__()\n",
    "        \n",
    "        k = int(abs((math.log(channel, 2) + b) / gamma))\n",
    "        kernel_size = k if k % 2 else k + 1\n",
    "        padding=kernel_size//2\n",
    "        # 先在H*W维度进行压缩，全局平均池化将每个通道平均为一个值\n",
    "        # (B, C, H, W) ---- (B, C, 1, 1)\n",
    "        self.avg_pool = nn.AdaptiveAvgPool2d(1)  # 自适应全局池化\n",
    "\n",
    "        # 利用各channel维度的相关性计算权重\n",
    "        # (1, 1, C) --- sigmoid\n",
    "        self.fc1 = nn.Sequential(\n",
    "            nn.Conv1d(1, 1, kernel_size=kernel_size, padding=padding, bias=bias),\n",
    "            nn.Sigmoid(),\n",
    "        )\n",
    "\n",
    "    def forward(self, x):\n",
    "        b, c, _, _ = x.size()\n",
    "        y = self.avg_pool(x).view(b, 1, c) # (B, C, 1, 1) --- (B, 1, C)\n",
    "        y_out = self.fc1(y).view(b, c, 1, 1) # (B, 1, C) --- (B, 1, C) --- (B, C, 1, 1)\n",
    "        return x * y_out"
   ]
  },
  {
   "cell_type": "markdown",
   "metadata": {},
   "source": [
    "## 3. 验证"
   ]
  },
  {
   "cell_type": "code",
   "execution_count": 2,
   "metadata": {},
   "outputs": [
    {
     "name": "stdout",
     "output_type": "stream",
     "text": [
      "torch.Size([1, 64, 102, 102])\n",
      "torch.Size([1, 64, 102, 102])\n"
     ]
    }
   ],
   "source": [
    "se_block = ECABlock(64)\n",
    "\n",
    "x = torch.randn(1, 64, 102, 102)\n",
    "\n",
    "y = se_block.forward(x)\n",
    "\n",
    "print(x.shape)\n",
    "print(y.shape)"
   ]
  }
 ],
 "metadata": {
  "kernelspec": {
   "display_name": "venv",
   "language": "python",
   "name": "python3"
  },
  "language_info": {
   "codemirror_mode": {
    "name": "ipython",
    "version": 3
   },
   "file_extension": ".py",
   "mimetype": "text/x-python",
   "name": "python",
   "nbconvert_exporter": "python",
   "pygments_lexer": "ipython3",
   "version": "3.8.10"
  }
 },
 "nbformat": 4,
 "nbformat_minor": 2
}
