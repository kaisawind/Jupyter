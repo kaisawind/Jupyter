{
 "cells": [
  {
   "cell_type": "code",
   "execution_count": 58,
   "metadata": {},
   "outputs": [],
   "source": [
    "from math import sqrt, pi, log, exp, floor\n",
    "import matplotlib.pyplot as plt\n",
    "import numpy as np\n",
    "np.__version__\n",
    "np.set_printoptions(suppress=True)"
   ]
  },
  {
   "cell_type": "markdown",
   "metadata": {},
   "source": [
    "各电缆间距函数"
   ]
  },
  {
   "cell_type": "code",
   "execution_count": 71,
   "metadata": {},
   "outputs": [],
   "source": [
    "def cal_dis(row, column, typeCircuit, S1, S2, S3, GMRs, rowLength, columnLength):\n",
    "    numberCircuit = row * column  # 回路个数，n\n",
    "    numberCable = 3 * numberCircuit  # 电缆数目，3×n\n",
    "    coorCable = np.zeros((numberCable, 2))  # 电缆坐标，以第一根电缆为原点，向上和左为正方向\n",
    "    \n",
    "    plt.title('Coor Cable') \n",
    "    plt.xlabel('X')  \n",
    "    plt.ylabel('Y')  \n",
    "    for i in range(row):  # 行 matlab下标从1开始，numpy下标从0开始\n",
    "        for j in range(column):  # 列\n",
    "            temp1 = i * column + j  # 第几个回路\n",
    "            temp2 = temp1 * 3  # 该回路的第一根电缆，上或者中间\n",
    "            if typeCircuit[temp1, 0] == 1:  # 对于三角形排列\n",
    "                coorCable[temp2, 0] = np.sum(rowLength[0:j])\n",
    "                coorCable[temp2, 1] = np.sum(columnLength[0:i])  \n",
    "                coorCable[temp2 + 1, 0] = coorCable[temp2, 0] - 0.5 * S2\n",
    "                coorCable[temp2 + 1, 1] = coorCable[temp2, 1] - sqrt(S1**2 - (0.5 * S2)**2)\n",
    "                coorCable[temp2 + 2, 0] = coorCable[temp2, 0] + 0.5 * S2\n",
    "                coorCable[temp2 + 2, 1] = coorCable[temp2, 1] - sqrt(S1**2 - (0.5 * S2)**2)\n",
    "                plt.plot(coorCable[temp2, :],coorCable[temp2, 1], ':')  \n",
    "            else:\n",
    "                coorCable[temp2, 0] = np.sum(rowLength[0:j])\n",
    "                coorCable[temp2, 1] = np.sum(columnLength[0:i])\n",
    "                coorCable[temp2 + 1, 0] = coorCable[temp2, 0] - S3\n",
    "                coorCable[temp2 + 1, 1] = coorCable[temp2, 1]\n",
    "                coorCable[temp2 + 2, 0] = coorCable[temp2, 0] + S3\n",
    "                coorCable[temp2 + 2, 1] = coorCable[temp2, 1]\n",
    "    plt.plot(coorCable[:,0],coorCable[:,1], 'o')    \n",
    "    plt.show()\n",
    "    print('coorCable', coorCable)\n",
    "    distance = np.zeros((numberCable, numberCable))\n",
    "\n",
    "    for i in range(numberCable):\n",
    "        for j in range(numberCable):\n",
    "            if i != j:\n",
    "                distance[i, j] = sqrt((coorCable[i, 0] - coorCable[j, 0])**2 +\n",
    "                                      (coorCable[i, 1] - coorCable[j, 1])**2)\n",
    "            else:\n",
    "                distance[i, j] = GMRs\n",
    "\n",
    "    return distance"
   ]
  },
  {
   "cell_type": "markdown",
   "metadata": {},
   "source": [
    "初始化参数"
   ]
  },
  {
   "cell_type": "code",
   "execution_count": 72,
   "metadata": {},
   "outputs": [],
   "source": [
    "row = 2  # 回路排列的行数\n",
    "column = 2  # 回路排列的列数\n",
    "numberCircuit = row * column  # 回路个数，n\n",
    "numberCable = 3 * numberCircuit  # 电缆总数目，3×n\n",
    "\n",
    "# 各回路的类型(列向量,三角型输入1，直线型输入2)\n",
    "typeCircuit = np.ones((numberCircuit, 1), dtype=int)  # [1;1;1;1]\n",
    "\n",
    "Di = 92.8 # 电缆金属护套内直径/mm\n",
    "Do = 97.6 # 电缆金属护套外直径/mm\n",
    "S1 = 302  # 回路内三角形腰长，或直线型相邻电缆间距/mm\n",
    "S2 = 500  # 三角形底长/mm\n",
    "S3 = 540  # 一字型回路内相邻相之间的距离/mm\n",
    "GMRs = sqrt(Di*Do)/2  # 电缆的金属护套的几何平均半径，/mm,可用护套的内外径的平均值代替\n",
    "\n",
    "R1 = 1  # 一端口接地电阻/Ω\n",
    "R2 = 10  # 二端口接地电阻/Ω\n",
    "EarthResistivity = 200  # 大地电阻率/Ω*m\n",
    "RSheathUint = 0.2076  # 护套单位电阻/Ω/km"
   ]
  },
  {
   "cell_type": "code",
   "execution_count": 73,
   "metadata": {},
   "outputs": [
    {
     "data": {
      "image/png": "[encoded data removed]",
      "text/plain": [
       "<Figure size 432x288 with 1 Axes>"
      ]
     },
     "metadata": {
      "needs_background": "light"
     },
     "output_type": "display_data"
    },
    {
     "name": "stdout",
     "output_type": "stream",
     "text": [
      "coorCable [[   0.            0.        ]\n",
      " [-250.         -169.42254868]\n",
      " [ 250.         -169.42254868]\n",
      " [ 500.            0.        ]\n",
      " [ 250.         -169.42254868]\n",
      " [ 750.         -169.42254868]\n",
      " [   0.         1400.        ]\n",
      " [-250.         1230.57745132]\n",
      " [ 250.         1230.57745132]\n",
      " [ 500.         1400.        ]\n",
      " [ 250.         1230.57745132]\n",
      " [ 750.         1230.57745132]]\n"
     ]
    }
   ],
   "source": [
    "rowLength = np.ones((column, 1)) # 第一行中相邻回路之间的距离\n",
    "rowLength = rowLength * 500\n",
    "columnLength = np.ones((row, 1)) # 第一列中相邻回路之间的距离\n",
    "columnLength = columnLength * 1400\n",
    "\n",
    "distance = cal_dis(row, column, typeCircuit, S1, S2, S3, GMRs, rowLength, columnLength)  # 各电缆间距"
   ]
  },
  {
   "cell_type": "code",
   "execution_count": 5,
   "metadata": {},
   "outputs": [
    {
     "name": "stdout",
     "output_type": "stream",
     "text": [
      "各电缆间距: [[  47.58487155  302.          302.          500.          302.\n",
      "   768.8979126  1400.         1255.71527971 1255.71527971 1486.60687473\n",
      "  1255.71527971 1441.11792151]\n",
      " [ 302.           47.58487155  500.          768.8979126   500.\n",
      "  1000.         1589.20959483 1400.         1486.60687473 1739.42149472\n",
      "  1486.60687473 1720.46505341]\n",
      " [ 302.          500.           47.58487155  302.            0.\n",
      "   500.         1589.20959483 1486.60687473 1400.         1589.20959483\n",
      "  1400.         1486.60687473]\n",
      " [ 500.          768.8979126   302.           47.58487155  302.\n",
      "   302.         1486.60687473 1441.11792151 1255.71527971 1400.\n",
      "  1255.71527971 1255.71527971]\n",
      " [ 302.          500.            0.          302.           47.58487155\n",
      "   500.         1589.20959483 1486.60687473 1400.         1589.20959483\n",
      "  1400.         1486.60687473]\n",
      " [ 768.8979126  1000.          500.          302.          500.\n",
      "    47.58487155 1739.42149472 1720.46505341 1486.60687473 1589.20959483\n",
      "  1486.60687473 1400.        ]\n",
      " [1400.         1589.20959483 1589.20959483 1486.60687473 1589.20959483\n",
      "  1739.42149472   47.58487155  302.          302.          500.\n",
      "   302.          768.8979126 ]\n",
      " [1255.71527971 1400.         1486.60687473 1441.11792151 1486.60687473\n",
      "  1720.46505341  302.           47.58487155  500.          768.8979126\n",
      "   500.         1000.        ]\n",
      " [1255.71527971 1486.60687473 1400.         1255.71527971 1400.\n",
      "  1486.60687473  302.          500.           47.58487155  302.\n",
      "     0.          500.        ]\n",
      " [1486.60687473 1739.42149472 1589.20959483 1400.         1589.20959483\n",
      "  1589.20959483  500.          768.8979126   302.           47.58487155\n",
      "   302.          302.        ]\n",
      " [1255.71527971 1486.60687473 1400.         1255.71527971 1400.\n",
      "  1486.60687473  302.          500.            0.          302.\n",
      "    47.58487155  500.        ]\n",
      " [1441.11792151 1720.46505341 1486.60687473 1255.71527971 1486.60687473\n",
      "  1400.          768.8979126  1000.          500.          302.\n",
      "   500.           47.58487155]]\n"
     ]
    }
   ],
   "source": [
    "print('各电缆间距:', distance)"
   ]
  },
  {
   "cell_type": "markdown",
   "metadata": {},
   "source": [
    "交叉互联三段长度"
   ]
  },
  {
   "cell_type": "code",
   "execution_count": 6,
   "metadata": {},
   "outputs": [
    {
     "name": "stdout",
     "output_type": "stream",
     "text": [
      "交叉互联三段长度 [[0.63  0.647 0.632]\n",
      " [0.492 0.616 0.58 ]\n",
      " [0.484 0.484 0.484]\n",
      " [0.484 0.484 0.484]]\n",
      "电缆总长度 [[1.909]\n",
      " [1.688]\n",
      " [1.452]\n",
      " [1.452]]\n"
     ]
    }
   ],
   "source": [
    "length = np.ones((numberCircuit, 3))\n",
    "length[0] = [0.63, 0.647, 0.632]\n",
    "length[1] = [0.492, 0.616, 0.580]\n",
    "length[2] = [0.484, 0.484, 0.484]\n",
    "length[3] = [0.484, 0.484, 0.484]\n",
    "print('交叉互联三段长度', length)\n",
    "lengthAll = np.zeros((numberCircuit, 1))  # 电缆总长/km\n",
    "for num in range(numberCircuit):\n",
    "    lengthAll[num, 0] = np.sum(length[num])\n",
    "print('电缆总长度', lengthAll)"
   ]
  },
  {
   "cell_type": "markdown",
   "metadata": {},
   "source": [
    "每一相电缆的负载电流"
   ]
  },
  {
   "cell_type": "code",
   "execution_count": 7,
   "metadata": {},
   "outputs": [
    {
     "name": "stdout",
     "output_type": "stream",
     "text": [
      "电流 [[200.]\n",
      " [150.]\n",
      " [200.]\n",
      " [200.]]\n",
      "负载电流 [[ 200.  +0.j        ]\n",
      " [-100.-173.20508076j]\n",
      " [-100.+173.20508076j]\n",
      " [ 150.  +0.j        ]\n",
      " [ -75.-129.90381057j]\n",
      " [ -75.+129.90381057j]\n",
      " [ 200.  +0.j        ]\n",
      " [-100.-173.20508076j]\n",
      " [-100.+173.20508076j]\n",
      " [ 200.  +0.j        ]\n",
      " [-100.-173.20508076j]\n",
      " [-100.+173.20508076j]]\n"
     ]
    }
   ],
   "source": [
    "IA=np.ones((numberCircuit,1))\n",
    "IA[0] = 200\n",
    "IA[1] = 150\n",
    "IA[2] = 200\n",
    "IA[3] = 200\n",
    "print('电流', IA)\n",
    "ILoad = np.zeros((numberCable,1), dtype=complex)\n",
    "for num in range(0, numberCable, 3):\n",
    "    ILoad[num, 0] = IA[floor(num/3), 0]  # A相负载电流\n",
    "    ILoad[num + 1, 0] = -0.5 * IA[floor(num/3), 0] - sqrt(3) / 2 * IA[floor(num/3), 0] * 1j  # B相负载电流\n",
    "    ILoad[num + 2, 0] = -0.5 * IA[floor(num/3), 0] + sqrt(3) / 2 * IA[floor(num/3), 0] * 1j  # C相负载电流\n",
    "print('负载电流', ILoad)"
   ]
  },
  {
   "cell_type": "markdown",
   "metadata": {},
   "source": [
    "计算右端感应电压"
   ]
  },
  {
   "cell_type": "code",
   "execution_count": 8,
   "metadata": {},
   "outputs": [
    {
     "name": "stdout",
     "output_type": "stream",
     "text": [
      "47.58487154548176\n"
     ]
    },
    {
     "ename": "ValueError",
     "evalue": "math domain error",
     "output_type": "error",
     "traceback": [
      "\u001b[0;31m---------------------------------------------------------------------------\u001b[0m",
      "\u001b[0;31mValueError\u001b[0m                                Traceback (most recent call last)",
      "\u001b[0;32m<ipython-input-8-8c56493a9395>\u001b[0m in \u001b[0;36m<module>\u001b[0;34m\u001b[0m\n\u001b[1;32m      7\u001b[0m \u001b[0;32mfor\u001b[0m \u001b[0mnum\u001b[0m \u001b[0;32min\u001b[0m \u001b[0mrange\u001b[0m\u001b[0;34m(\u001b[0m\u001b[0mnumberCable\u001b[0m\u001b[0;34m)\u001b[0m\u001b[0;34m:\u001b[0m\u001b[0;34m\u001b[0m\u001b[0;34m\u001b[0m\u001b[0m\n\u001b[1;32m      8\u001b[0m     \u001b[0;32mfor\u001b[0m \u001b[0mj\u001b[0m \u001b[0;32min\u001b[0m \u001b[0mrange\u001b[0m\u001b[0;34m(\u001b[0m\u001b[0mnumberCable\u001b[0m\u001b[0;34m)\u001b[0m\u001b[0;34m:\u001b[0m\u001b[0;34m\u001b[0m\u001b[0;34m\u001b[0m\u001b[0m\n\u001b[0;32m----> 9\u001b[0;31m         \u001b[0mfluxAll\u001b[0m\u001b[0;34m[\u001b[0m\u001b[0mnum\u001b[0m\u001b[0;34m,\u001b[0m \u001b[0;36m0\u001b[0m\u001b[0;34m]\u001b[0m \u001b[0;34m=\u001b[0m \u001b[0mfluxAll\u001b[0m\u001b[0;34m[\u001b[0m\u001b[0mnum\u001b[0m\u001b[0;34m,\u001b[0m \u001b[0;36m0\u001b[0m\u001b[0;34m]\u001b[0m \u001b[0;34m+\u001b[0m \u001b[0;36m2\u001b[0m \u001b[0;34m*\u001b[0m \u001b[0;34m(\u001b[0m\u001b[0;36m10\u001b[0m\u001b[0;34m**\u001b[0m\u001b[0;34m(\u001b[0m\u001b[0;34m-\u001b[0m\u001b[0;36m4\u001b[0m\u001b[0;34m)\u001b[0m\u001b[0;34m)\u001b[0m \u001b[0;34m*\u001b[0m \u001b[0mILoad\u001b[0m\u001b[0;34m[\u001b[0m\u001b[0mj\u001b[0m\u001b[0;34m,\u001b[0m \u001b[0;36m0\u001b[0m\u001b[0;34m]\u001b[0m \u001b[0;34m*\u001b[0m \u001b[0mlog\u001b[0m\u001b[0;34m(\u001b[0m\u001b[0mdistance\u001b[0m\u001b[0;34m[\u001b[0m\u001b[0mnum\u001b[0m\u001b[0;34m,\u001b[0m \u001b[0mj\u001b[0m\u001b[0;34m]\u001b[0m \u001b[0;34m/\u001b[0m \u001b[0mGMRs\u001b[0m\u001b[0;34m)\u001b[0m\u001b[0;34m\u001b[0m\u001b[0;34m\u001b[0m\u001b[0m\n\u001b[0m\u001b[1;32m     10\u001b[0m     \u001b[0mE\u001b[0m\u001b[0;34m[\u001b[0m\u001b[0mnum\u001b[0m\u001b[0;34m,\u001b[0m \u001b[0;36m0\u001b[0m\u001b[0;34m]\u001b[0m \u001b[0;34m=\u001b[0m \u001b[0;34m-\u001b[0m\u001b[0mw\u001b[0m \u001b[0;34m*\u001b[0m \u001b[0mfluxAll\u001b[0m\u001b[0;34m[\u001b[0m\u001b[0mnum\u001b[0m\u001b[0;34m,\u001b[0m \u001b[0;36m0\u001b[0m\u001b[0;34m]\u001b[0m \u001b[0;34m*\u001b[0m \u001b[0;36m1j\u001b[0m\u001b[0;34m\u001b[0m\u001b[0;34m\u001b[0m\u001b[0m\n\u001b[1;32m     11\u001b[0m \u001b[0mprint\u001b[0m\u001b[0;34m(\u001b[0m\u001b[0;34m'E'\u001b[0m\u001b[0;34m,\u001b[0m \u001b[0mE\u001b[0m\u001b[0;34m)\u001b[0m\u001b[0;34m\u001b[0m\u001b[0;34m\u001b[0m\u001b[0m\n",
      "\u001b[0;31mValueError\u001b[0m: math domain error"
     ]
    }
   ],
   "source": [
    "print(GMRs)\n",
    "frequency = 50  # 负载电流频率\n",
    "w = 2 * pi * frequency\n",
    "ULoad = np.zeros((numberCable, 1), dtype=complex)\n",
    "fluxAll = np.zeros((numberCable, 1), dtype=complex)  # 计算每一根电缆的总磁通/(Wb/km)\n",
    "E = np.zeros((numberCable, 1), dtype=complex)  # 每根电缆单位长度的感应电动势/V/km\n",
    "for num in range(numberCable):\n",
    "    for j in range(numberCable):\n",
    "        fluxAll[num, 0] = fluxAll[num, 0] + 2 * (10**(-4)) * ILoad[j, 0] * log(distance[num, j] / GMRs)\n",
    "    E[num, 0] = -w * fluxAll[num, 0] * 1j\n",
    "print('E', E)\n",
    "print('length', length)\n",
    "for num in range(numberCircuit):  # 回路数\n",
    "    for j in range(3):  # 相数\n",
    "        if j == 0:\n",
    "            ULoad[num * 3 + j, 0] = E[0 + 3 * num, 0] * length[num, 0] + E[1 + 3 * num,0] * length[num, 1] + E[2 + 3 * num, 0] * length[num, 2]\n",
    "        elif j == 1:\n",
    "            ULoad[num * 3 + j, 0] = E[1 + 3 * num, 0] * length[num, 0] + E[2 + 3 * num,0] * length[num, 1] + E[0 + 3 * num, 0] * length[num, 2]\n",
    "        elif j == 2:\n",
    "            ULoad[num * 3 + j, 0] = E[2 + 3 * num, 0] * length[num, 0] + E[0 + 3 * num,0] * length[num, 1] + E[1 + 3 * num, 0] * length[num, 2]\n",
    "\n",
    "UR = ULoad.real  # 负载感应电压实部\n",
    "UF = ULoad.imag  # 负载感应电压虚部\n",
    "U = np.transpose([np.append(UR, UF)])  # 6n×1"
   ]
  },
  {
   "cell_type": "code",
   "execution_count": null,
   "metadata": {},
   "outputs": [],
   "source": [
    "print('负载感应电压:', U)"
   ]
  },
  {
   "cell_type": "markdown",
   "metadata": {},
   "source": [
    "计算R矩阵"
   ]
  },
  {
   "cell_type": "code",
   "execution_count": null,
   "metadata": {},
   "outputs": [],
   "source": [
    "# 计算R矩阵\n",
    "De = sqrt(exp(12.981) * EarthResistivity / frequency) * 1000  # 护套等值深度/mm\n",
    "R = np.zeros((numberCable, numberCable))  # 3n×3n\n",
    "for num in range(numberCable):\n",
    "    circuitIndex = floor(num/3)\n",
    "    REarth = (pi**2) * frequency * 0.0001 * (lengthAll[circuitIndex,0] + 2 * De * (10**(-6)))\n",
    "    RA = R1 + R2 + REarth + RSheathUint * lengthAll[circuitIndex,0]\n",
    "    RB = R1 + R2 + REarth\n",
    "    if num % 3 == 0:  # A相\n",
    "        R[num, num] = RA\n",
    "        R[num, num + 1] = RB\n",
    "        R[num, num + 2] = RB\n",
    "    elif num % 3 == 1:  # B相\n",
    "        R[num, num] = RA\n",
    "        R[num, num + 1] = RB\n",
    "        R[num, num - 1] = RB\n",
    "    elif num % 3 == 2:  # C相\n",
    "        R[num, num] = RA\n",
    "        R[num, num - 1] = RB\n",
    "        R[num, num - 2] = RB"
   ]
  },
  {
   "cell_type": "code",
   "execution_count": null,
   "metadata": {},
   "outputs": [],
   "source": [
    "print('R:', R)"
   ]
  },
  {
   "cell_type": "markdown",
   "metadata": {},
   "source": [
    "计算Xa，即X的元素,对角线为自感,注意都要乘以长度"
   ]
  },
  {
   "cell_type": "code",
   "execution_count": null,
   "metadata": {},
   "outputs": [],
   "source": [
    "# 计算Xa，即X的元素,对角线为自感,注意都要乘以长度\n",
    "X = np.zeros((numberCable, numberCable))  # 感抗矩阵，3n×3n\n",
    "for num1 in range(numberCable):  # 计算第num1根电缆的X矩阵元素\n",
    "    circuitIndex = floor(num1/3)\n",
    "    for num2 in range(numberCable):  # 计算第num2根电缆Isnum2的Xa系数\n",
    "        # 先判断num1和num2分别是哪一相电缆，0到2表示A到C\n",
    "        temp1 = num1 % 3\n",
    "        temp2 = num2 % 3\n",
    "        # 根据判断结果分类计算X\n",
    "        if temp1 == temp2:  # 如果都是同一相\n",
    "            if num1 != num2:  # 如果不是同一根电缆\n",
    "                X[num1, num2] = 2 * w * 10**(-4) * log(\n",
    "                    De / distance[num1, num2]) * lengthAll[circuitIndex, 0]\n",
    "            else:  # 相等对角线，为自感\n",
    "                X[num1, num2] = 2 * w * 10**(-4) * log(De / GMRs) * lengthAll[circuitIndex, 0]\n",
    "        else:  # 如果不是同一相电缆\n",
    "            XTemp = np.zeros((1, 3))  # 与三段长度对应的单位互感\n",
    "            if temp1 == 0 and temp2 == 1:  # A与B\n",
    "                XTemp[0, 0] = 2 * w * 10**(-4) * log(\n",
    "                    De / distance[num1, num2])  # AB\n",
    "                XTemp[0, 1] = 2 * w * 10**(-4) * log(\n",
    "                    De / distance[num1 + 1, num2 + 1])  # BC\n",
    "                XTemp[0, 2] = 2 * w * 10**(-4) * log(\n",
    "                    De / distance[num1 + 2, num2 - 1])  # CA\n",
    "            if temp1 == 0 and temp2 == 2:  # A与C\n",
    "                XTemp[0, 0] = 2 * w * 10**(-4) * log(\n",
    "                    De / distance[num1, num2])  # AC\n",
    "                XTemp[0, 1] = 2 * w * 10**(-4) * log(\n",
    "                    De / distance[num1 + 1, num2 - 2])  # BA\n",
    "                XTemp[0, 2] = 2 * w * 10**(-4) * log(\n",
    "                    De / distance[num1 + 2, num2 - 1])  # CB\n",
    "            if temp1 == 1 and temp2 == 0:  # B与A\n",
    "                XTemp[0, 0] = 2 * w * 10**(-4) * log(\n",
    "                    De / distance[num1, num2])  # BA\n",
    "                XTemp[0, 1] = 2 * w * 10**(-4) * log(\n",
    "                    De / distance[num1 + 1, num2 + 1])  # CB\n",
    "                XTemp[0, 2] = 2 * w * 10**(-4) * log(\n",
    "                    De / distance[num1 - 1, num2 + 2])  # AC\n",
    "            if temp1 == 1 and temp2 == 2:  # B与C\n",
    "                XTemp[0, 0] = 2 * w * 10**(-4) * log(\n",
    "                    De / distance[num1, num2])  # BC\n",
    "                XTemp[0, 1] = 2 * w * 10**(-4) * log(\n",
    "                    De / distance[num1 + 1, num2 - 2])  # CA\n",
    "                XTemp[0, 2] = 2 * w * 10**(-4) * log(\n",
    "                    De / distance[num1 - 1, num2 - 1])  # AB\n",
    "            if temp1 == 2 and temp2 == 0:  # C与A\n",
    "                XTemp[0, 0] = 2 * w * 10**(-4) * log(\n",
    "                    De / distance[num1, num2])  # CA\n",
    "                XTemp[0, 1] = 2 * w * 10**(-4) * log(\n",
    "                    De / distance[num1 - 2, num2 + 1])  # AB\n",
    "                XTemp[0, 2] = 2 * w * 10**(-4) * log(\n",
    "                    De / distance[num1 - 1, num2 + 2])  # BC\n",
    "            if temp1 == 2 and temp2 == 1:  # C与B\n",
    "                XTemp[0, 0] = 2 * w * 10**(-4) * log(\n",
    "                    De / distance[num1, num2])  # CB\n",
    "                XTemp[0, 1] = 2 * w * 10**(-4) * log(\n",
    "                    De / distance[num1 - 2, num2 + 1])  # AC\n",
    "                XTemp[0, 2] = 2 * w * 10**(-4) * log(\n",
    "                    De / distance[num1 - 1, num2 - 1])  # BA\n",
    "            X[num1, num2] = XTemp[0, 0] * length[circuitIndex, 0] + XTemp[0, 1] * length[\n",
    "                circuitIndex, 1] + XTemp[0, 2] * length[circuitIndex, 2]"
   ]
  },
  {
   "cell_type": "code",
   "execution_count": null,
   "metadata": {},
   "outputs": [],
   "source": [
    "print('X', X)"
   ]
  },
  {
   "cell_type": "markdown",
   "metadata": {},
   "source": [
    "AI=U"
   ]
  },
  {
   "cell_type": "code",
   "execution_count": null,
   "metadata": {},
   "outputs": [],
   "source": [
    "# AI=U\n",
    "A = np.vstack((np.hstack((R, -X)), np.hstack((X, R))))  # 6n×6n\n",
    "I = np.linalg.inv(A) @ U  # 6n×1，先所有环流的实部，再是说有的虚部\n",
    "ICircular = np.zeros((numberCable, 1))  # 记录每根电缆的环流值,3n×1\n",
    "for num in range(numberCable):\n",
    "    ICircular[num, 0] = sqrt((I[num, 0]**2) + (I[num + numberCable, 0]**2))\n",
    "    temp1 = floor(num / 3)  # 第几个回路\n",
    "    temp2 = num % 3  # 该回路中ABC三相\n",
    "    print('回路{0}中{1}相的环流为{2}A'.format(temp1, temp2, ICircular[num, 0]))"
   ]
  },
  {
   "cell_type": "code",
   "execution_count": null,
   "metadata": {},
   "outputs": [],
   "source": []
  }
 ],
 "metadata": {
  "kernelspec": {
   "display_name": "Python 3",
   "language": "python",
   "name": "python3"
  },
  "language_info": {
   "codemirror_mode": {
    "name": "ipython",
    "version": 3
   },
   "file_extension": ".py",
   "mimetype": "text/x-python",
   "name": "python",
   "nbconvert_exporter": "python",
   "pygments_lexer": "ipython3",
   "version": "3.8.3"
  },
  "varInspector": {
   "cols": {
    "lenName": 16,
    "lenType": 16,
    "lenVar": 40
   },
   "kernels_config": {
    "python": {
     "delete_cmd_postfix": "",
     "delete_cmd_prefix": "del ",
     "library": "var_list.py",
     "varRefreshCmd": "print(var_dic_list())"
    },
    "r": {
     "delete_cmd_postfix": ") ",
     "delete_cmd_prefix": "rm(",
     "library": "var_list.r",
     "varRefreshCmd": "cat(var_dic_list()) "
    }
   },
   "position": {
    "height": "599.85px",
    "left": "1550px",
    "right": "20px",
    "top": "120px",
    "width": "350px"
   },
   "types_to_exclude": [
    "module",
    "function",
    "builtin_function_or_method",
    "instance",
    "_Feature"
   ],
   "window_display": true
  }
 },
 "nbformat": 4,
 "nbformat_minor": 4
}
