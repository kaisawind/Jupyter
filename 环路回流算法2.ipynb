{
 "cells": [
  {
   "cell_type": "code",
   "execution_count": 1,
   "metadata": {},
   "outputs": [],
   "source": [
    "from math import sqrt, pi, log, exp, floor\n",
    "import matplotlib.pyplot as plt\n",
    "import numpy as np\n",
    "np.__version__\n",
    "np.set_printoptions(suppress=True)"
   ]
  },
  {
   "cell_type": "markdown",
   "metadata": {},
   "source": [
    "各电缆间距函数"
   ]
  },
  {
   "cell_type": "code",
   "execution_count": 2,
   "metadata": {},
   "outputs": [],
   "source": [
    "def cal_dis(row, column, typeCircuit, S1, S2, S3, GMRs, rowLength, columnLength):\n",
    "    numberCircuit = row * column  # 回路个数，n\n",
    "    numberCable = 3 * numberCircuit  # 电缆数目，3×n\n",
    "    coorCable = np.zeros((numberCable, 2))  # 电缆坐标，以第一根电缆为原点，向上和左为正方向\n",
    "    \n",
    "    plt.title('Coor Cable') \n",
    "    plt.xlabel('X')  \n",
    "    plt.ylabel('Y')  \n",
    "    for i in range(row):  # 行 matlab下标从1开始，numpy下标从0开始\n",
    "        for j in range(column):  # 列\n",
    "            temp1 = i * column + j  # 第几个回路\n",
    "            temp2 = temp1 * 3  # 该回路的第一根电缆，上或者中间\n",
    "            if typeCircuit[temp1, 0] == 1:  # 对于三角形排列\n",
    "                coorCable[temp2, 0] = np.sum(rowLength[0:j])\n",
    "                coorCable[temp2, 1] = np.sum(columnLength[0:i])  \n",
    "                coorCable[temp2 + 1, 0] = coorCable[temp2, 0] - 0.5 * S2\n",
    "                coorCable[temp2 + 1, 1] = coorCable[temp2, 1] - sqrt(S1**2 - (0.5 * S2)**2)\n",
    "                coorCable[temp2 + 2, 0] = coorCable[temp2, 0] + 0.5 * S2\n",
    "                coorCable[temp2 + 2, 1] = coorCable[temp2, 1] - sqrt(S1**2 - (0.5 * S2)**2)\n",
    "            else:\n",
    "                coorCable[temp2, 0] = np.sum(rowLength[0:j])\n",
    "                coorCable[temp2, 1] = np.sum(columnLength[0:i])\n",
    "                coorCable[temp2 + 1, 0] = coorCable[temp2, 0] - S3\n",
    "                coorCable[temp2 + 1, 1] = coorCable[temp2, 1]\n",
    "                coorCable[temp2 + 2, 0] = coorCable[temp2, 0] + S3\n",
    "                coorCable[temp2 + 2, 1] = coorCable[temp2, 1]\n",
    "    plt.plot(coorCable[:,0],coorCable[:,1], 'o')    \n",
    "    plt.show()\n",
    "    print('coorCable', coorCable)\n",
    "    distance = np.zeros((numberCable, numberCable))\n",
    "\n",
    "    for i in range(numberCable):\n",
    "        for j in range(numberCable):\n",
    "            if i != j:\n",
    "                distance[i, j] = sqrt((coorCable[i, 0] - coorCable[j, 0])**2 +\n",
    "                                      (coorCable[i, 1] - coorCable[j, 1])**2)\n",
    "            else:\n",
    "                distance[i, j] = GMRs\n",
    "\n",
    "    return distance"
   ]
  },
  {
   "cell_type": "markdown",
   "metadata": {},
   "source": [
    "初始化参数"
   ]
  },
  {
   "cell_type": "code",
   "execution_count": 3,
   "metadata": {},
   "outputs": [],
   "source": [
    "row = 2  # 回路排列的行数\n",
    "column = 2  # 回路排列的列数\n",
    "numberCircuit = row * column  # 回路个数，n\n",
    "numberCable = 3 * numberCircuit  # 电缆总数目，3×n\n",
    "\n",
    "# 各回路的类型(列向量,三角型输入1，直线型输入2)\n",
    "typeCircuit = np.ones((numberCircuit, 1), dtype=int)  # [1;1;1;1]\n",
    "\n",
    "Di = 92.8 # 电缆金属护套内直径/mm\n",
    "Do = 97.6 # 电缆金属护套外直径/mm\n",
    "S1 = 302  # 回路内三角形腰长，或直线型相邻电缆间距/mm\n",
    "S2 = 207  # 三角形底长/mm\n",
    "S3 = 540  # 一字型回路内相邻相之间的距离/mm\n",
    "GMRs = sqrt(Di*Do)/2  # 电缆的金属护套的几何平均半径，/mm,可用护套的内外径的平均值代替\n",
    "\n",
    "R1 = 1  # 一端口接地电阻/Ω\n",
    "R2 = 10  # 二端口接地电阻/Ω\n",
    "EarthResistivity = 200  # 大地电阻率/Ω*m\n",
    "RSheathUint = 0.2076  # 护套单位电阻/Ω/km"
   ]
  },
  {
   "cell_type": "code",
   "execution_count": 4,
   "metadata": {},
   "outputs": [
    {
     "data": {
      "image/png": "[encoded data removed]",
      "text/plain": [
       "<Figure size 432x288 with 1 Axes>"
      ]
     },
     "metadata": {
      "needs_background": "light"
     },
     "output_type": "display_data"
    },
    {
     "name": "stdout",
     "output_type": "stream",
     "text": [
      "coorCable [[   0.           0.       ]\n",
      " [-103.5       -283.7106801]\n",
      " [ 103.5       -283.7106801]\n",
      " [ 500.           0.       ]\n",
      " [ 396.5       -283.7106801]\n",
      " [ 603.5       -283.7106801]\n",
      " [   0.        1400.       ]\n",
      " [-103.5       1116.2893199]\n",
      " [ 103.5       1116.2893199]\n",
      " [ 500.        1400.       ]\n",
      " [ 396.5       1116.2893199]\n",
      " [ 603.5       1116.2893199]]\n"
     ]
    }
   ],
   "source": [
    "rowLength = np.ones((column, 1)) # 第一行中相邻回路之间的距离\n",
    "rowLength = rowLength * 500\n",
    "columnLength = np.ones((row, 1)) # 第一列中相邻回路之间的距离\n",
    "columnLength = columnLength * 1400\n",
    "\n",
    "distance = cal_dis(row, column, typeCircuit, S1, S2, S3, GMRs, rowLength, columnLength)  # 各电缆间距"
   ]
  },
  {
   "cell_type": "code",
   "execution_count": 5,
   "metadata": {},
   "outputs": [
    {
     "name": "stdout",
     "output_type": "stream",
     "text": [
      "各电缆间距: [[  47.58487155  302.          302.          500.          487.5489719\n",
      "   666.86130492 1400.         1121.07720329 1121.07720329 1486.60687473\n",
      "  1184.61558986 1268.98151907]\n",
      " [ 302.           47.58487155  207.          666.86130492  500.\n",
      "   707.         1686.88882392 1400.         1415.22047752 1788.60110261\n",
      "  1486.60687473 1568.39057636]\n",
      " [ 302.          207.           47.58487155  487.5489719   293.\n",
      "   500.         1686.88882392 1415.22047752 1400.         1729.76700867\n",
      "  1430.33177969 1486.60687473]\n",
      " [ 500.          666.86130492  487.5489719    47.58487155  302.\n",
      "   302.         1486.60687473 1268.98151907 1184.61558986 1400.\n",
      "  1121.07720329 1121.07720329]\n",
      " [ 487.5489719   500.          293.          302.           47.58487155\n",
      "   207.         1729.76700867 1486.60687473 1430.33177969 1686.88882392\n",
      "  1400.         1415.22047752]\n",
      " [ 666.86130492  707.          500.          302.          207.\n",
      "    47.58487155 1788.60110261 1568.39057636 1486.60687473 1686.88882392\n",
      "  1415.22047752 1400.        ]\n",
      " [1400.         1686.88882392 1686.88882392 1486.60687473 1729.76700867\n",
      "  1788.60110261   47.58487155  302.          302.          500.\n",
      "   487.5489719   666.86130492]\n",
      " [1121.07720329 1400.         1415.22047752 1268.98151907 1486.60687473\n",
      "  1568.39057636  302.           47.58487155  207.          666.86130492\n",
      "   500.          707.        ]\n",
      " [1121.07720329 1415.22047752 1400.         1184.61558986 1430.33177969\n",
      "  1486.60687473  302.          207.           47.58487155  487.5489719\n",
      "   293.          500.        ]\n",
      " [1486.60687473 1788.60110261 1729.76700867 1400.         1686.88882392\n",
      "  1686.88882392  500.          666.86130492  487.5489719    47.58487155\n",
      "   302.          302.        ]\n",
      " [1184.61558986 1486.60687473 1430.33177969 1121.07720329 1400.\n",
      "  1415.22047752  487.5489719   500.          293.          302.\n",
      "    47.58487155  207.        ]\n",
      " [1268.98151907 1568.39057636 1486.60687473 1121.07720329 1415.22047752\n",
      "  1400.          666.86130492  707.          500.          302.\n",
      "   207.           47.58487155]]\n"
     ]
    }
   ],
   "source": [
    "print('各电缆间距:', distance)"
   ]
  },
  {
   "cell_type": "markdown",
   "metadata": {},
   "source": [
    "交叉互联三段长度"
   ]
  },
  {
   "cell_type": "code",
   "execution_count": 6,
   "metadata": {},
   "outputs": [
    {
     "name": "stdout",
     "output_type": "stream",
     "text": [
      "交叉互联三段长度 [[0.63  0.647 0.632]\n",
      " [0.492 0.616 0.58 ]\n",
      " [0.484 0.484 0.484]\n",
      " [0.484 0.484 0.484]]\n",
      "电缆总长度 [[1.909]\n",
      " [1.688]\n",
      " [1.452]\n",
      " [1.452]]\n"
     ]
    }
   ],
   "source": [
    "length = np.ones((numberCircuit, 3))\n",
    "length[0] = [0.63, 0.647, 0.632]\n",
    "length[1] = [0.492, 0.616, 0.580]\n",
    "length[2] = [0.484, 0.484, 0.484]\n",
    "length[3] = [0.484, 0.484, 0.484]\n",
    "print('交叉互联三段长度', length)\n",
    "lengthAll = np.zeros((numberCircuit, 1))  # 电缆总长/km\n",
    "for num in range(numberCircuit):\n",
    "    lengthAll[num, 0] = np.sum(length[num])\n",
    "print('电缆总长度', lengthAll)"
   ]
  },
  {
   "cell_type": "markdown",
   "metadata": {},
   "source": [
    "每一相电缆的负载电流"
   ]
  },
  {
   "cell_type": "code",
   "execution_count": 7,
   "metadata": {},
   "outputs": [
    {
     "name": "stdout",
     "output_type": "stream",
     "text": [
      "电流 [[200.]\n",
      " [150.]\n",
      " [200.]\n",
      " [200.]]\n",
      "负载电流 [[ 200.  +0.j        ]\n",
      " [-100.-173.20508076j]\n",
      " [-100.+173.20508076j]\n",
      " [ 150.  +0.j        ]\n",
      " [ -75.-129.90381057j]\n",
      " [ -75.+129.90381057j]\n",
      " [ 200.  +0.j        ]\n",
      " [-100.-173.20508076j]\n",
      " [-100.+173.20508076j]\n",
      " [ 200.  +0.j        ]\n",
      " [-100.-173.20508076j]\n",
      " [-100.+173.20508076j]]\n"
     ]
    }
   ],
   "source": [
    "IA=np.ones((numberCircuit,1))\n",
    "IA[0] = 200\n",
    "IA[1] = 150\n",
    "IA[2] = 200\n",
    "IA[3] = 200\n",
    "print('电流', IA)\n",
    "ILoad = np.zeros((numberCable,1), dtype=complex)\n",
    "for num in range(0, numberCable, 3):\n",
    "    ILoad[num, 0] = IA[floor(num/3), 0]  # A相负载电流\n",
    "    ILoad[num + 1, 0] = -0.5 * IA[floor(num/3), 0] - sqrt(3) / 2 * IA[floor(num/3), 0] * 1j  # B相负载电流\n",
    "    ILoad[num + 2, 0] = -0.5 * IA[floor(num/3), 0] + sqrt(3) / 2 * IA[floor(num/3), 0] * 1j  # C相负载电流\n",
    "print('负载电流', ILoad)"
   ]
  },
  {
   "cell_type": "markdown",
   "metadata": {},
   "source": [
    "计算右端感应电压"
   ]
  },
  {
   "cell_type": "code",
   "execution_count": 8,
   "metadata": {},
   "outputs": [
    {
     "name": "stdout",
     "output_type": "stream",
     "text": [
      "47.58487154548176\n",
      "E [[  3.30499429+19.24645041j]\n",
      " [ 19.52795513-19.32770641j]\n",
      " [-11.33552661-20.68553987j]\n",
      " [ -4.15709369+13.85380038j]\n",
      " [  5.88150611-17.94981023j]\n",
      " [-16.47048431-16.1922478j ]\n",
      " [  3.68139593+28.80042014j]\n",
      " [ 20.32476311-10.82203568j]\n",
      " [ -9.98647978-12.20677797j]\n",
      " [ -3.77239538+28.74324424j]\n",
      " [  9.8520693 -12.26899958j]\n",
      " [-20.44104749-10.95564849j]]\n",
      "length [[0.63  0.647 0.632]\n",
      " [0.492 0.616 0.58 ]\n",
      " [0.484 0.484 0.484]\n",
      " [0.484 0.484 0.484]]\n"
     ]
    }
   ],
   "source": [
    "print(GMRs)\n",
    "frequency = 50  # 负载电流频率\n",
    "w = 2 * pi * frequency\n",
    "ULoad = np.zeros((numberCable, 1), dtype=complex)\n",
    "fluxAll = np.zeros((numberCable, 1), dtype=complex)  # 计算每一根电缆的总磁通/(Wb/km)\n",
    "E = np.zeros((numberCable, 1), dtype=complex)  # 每根电缆单位长度的感应电动势/V/km\n",
    "for num in range(numberCable):\n",
    "    for j in range(numberCable):\n",
    "        fluxAll[num, 0] = fluxAll[num, 0] + 2 * (10**(-4)) * ILoad[j, 0] * log(distance[num, j] / GMRs)\n",
    "    E[num, 0] = -w * fluxAll[num, 0] * 1j\n",
    "print('E', E)\n",
    "print('length', length)\n",
    "for num in range(numberCircuit):  # 回路数\n",
    "    for j in range(3):  # 相数\n",
    "        if j == 0:\n",
    "            ULoad[num * 3 + j, 0] = E[0 + 3 * num, 0] * length[num, 0] + E[1 + 3 * num,0] * length[num, 1] + E[2 + 3 * num, 0] * length[num, 2]\n",
    "        elif j == 1:\n",
    "            ULoad[num * 3 + j, 0] = E[1 + 3 * num, 0] * length[num, 0] + E[2 + 3 * num,0] * length[num, 1] + E[0 + 3 * num, 0] * length[num, 2]\n",
    "        elif j == 2:\n",
    "            ULoad[num * 3 + j, 0] = E[2 + 3 * num, 0] * length[num, 0] + E[0 + 3 * num,0] * length[num, 1] + E[1 + 3 * num, 0] * length[num, 2]\n",
    "\n",
    "UR = ULoad.real  # 负载感应电压实部\n",
    "UF = ULoad.imag  # 负载感应电压虚部\n",
    "U = np.transpose([np.append(UR, UF)])  # 6n×1"
   ]
  },
  {
   "cell_type": "code",
   "execution_count": 9,
   "metadata": {},
   "outputs": [
    {
     "name": "stdout",
     "output_type": "stream",
     "text": [
      "负载感应电压: [[  7.55268056]\n",
      " [  7.05728241]\n",
      " [  7.33861719]\n",
      " [ -7.97516323]\n",
      " [ -9.66323166]\n",
      " [ -7.25297445]\n",
      " [  6.78552476]\n",
      " [  6.78552476]\n",
      " [  6.78552476]\n",
      " [ -6.95090481]\n",
      " [ -6.95090481]\n",
      " [ -6.95090481]\n",
      " [-13.45302349]\n",
      " [-13.39624268]\n",
      " [-12.79454716]\n",
      " [-13.63251704]\n",
      " [-10.77052706]\n",
      " [ -9.84353481]\n",
      " [  2.79345754]\n",
      " [  2.79345754]\n",
      " [  2.79345754]\n",
      " [  2.67100054]\n",
      " [  2.67100054]\n",
      " [  2.67100054]]\n"
     ]
    }
   ],
   "source": [
    "print('负载感应电压:', U)"
   ]
  },
  {
   "cell_type": "markdown",
   "metadata": {},
   "source": [
    "计算R矩阵"
   ]
  },
  {
   "cell_type": "code",
   "execution_count": 10,
   "metadata": {},
   "outputs": [],
   "source": [
    "# 计算R矩阵\n",
    "De = sqrt(exp(12.981) * EarthResistivity / frequency) * 1000  # 护套等值深度/mm\n",
    "R = np.zeros((numberCable, numberCable))  # 3n×3n\n",
    "for num in range(numberCable):\n",
    "    circuitIndex = floor(num/3)\n",
    "    REarth = (pi**2) * frequency * 0.0001 * (lengthAll[circuitIndex,0] + 2 * De * (10**(-6)))\n",
    "    RA = R1 + R2 + REarth + RSheathUint * lengthAll[circuitIndex,0]\n",
    "    RB = R1 + R2 + REarth\n",
    "    if num % 3 == 0:  # A相\n",
    "        R[num, num] = RA\n",
    "        R[num, num + 1] = RB\n",
    "        R[num, num + 2] = RB\n",
    "    elif num % 3 == 1:  # B相\n",
    "        R[num, num] = RA\n",
    "        R[num, num + 1] = RB\n",
    "        R[num, num - 1] = RB\n",
    "    elif num % 3 == 2:  # C相\n",
    "        R[num, num] = RA\n",
    "        R[num, num - 1] = RB\n",
    "        R[num, num - 2] = RB"
   ]
  },
  {
   "cell_type": "code",
   "execution_count": 11,
   "metadata": {},
   "outputs": [
    {
     "name": "stdout",
     "output_type": "stream",
     "text": [
      "R: [[11.62056609 11.22425769 11.22425769  0.          0.          0.\n",
      "   0.          0.          0.          0.          0.          0.        ]\n",
      " [11.22425769 11.62056609 11.22425769  0.          0.          0.\n",
      "   0.          0.          0.          0.          0.          0.        ]\n",
      " [11.22425769 11.22425769 11.62056609  0.          0.          0.\n",
      "   0.          0.          0.          0.          0.          0.        ]\n",
      " [ 0.          0.          0.         11.56378057 11.21335177 11.21335177\n",
      "   0.          0.          0.          0.          0.          0.        ]\n",
      " [ 0.          0.          0.         11.21335177 11.56378057 11.21335177\n",
      "   0.          0.          0.          0.          0.          0.        ]\n",
      " [ 0.          0.          0.         11.21335177 11.21335177 11.56378057\n",
      "   0.          0.          0.          0.          0.          0.        ]\n",
      " [ 0.          0.          0.          0.          0.          0.\n",
      "  11.50314084 11.20170564 11.20170564  0.          0.          0.        ]\n",
      " [ 0.          0.          0.          0.          0.          0.\n",
      "  11.20170564 11.50314084 11.20170564  0.          0.          0.        ]\n",
      " [ 0.          0.          0.          0.          0.          0.\n",
      "  11.20170564 11.20170564 11.50314084  0.          0.          0.        ]\n",
      " [ 0.          0.          0.          0.          0.          0.\n",
      "   0.          0.          0.         11.50314084 11.20170564 11.20170564]\n",
      " [ 0.          0.          0.          0.          0.          0.\n",
      "   0.          0.          0.         11.20170564 11.50314084 11.20170564]\n",
      " [ 0.          0.          0.          0.          0.          0.\n",
      "   0.          0.          0.         11.20170564 11.20170564 11.50314084]]\n"
     ]
    }
   ],
   "source": [
    "print('R:', R)"
   ]
  },
  {
   "cell_type": "markdown",
   "metadata": {},
   "source": [
    "计算Xa，即X的元素,对角线为自感,注意都要乘以长度"
   ]
  },
  {
   "cell_type": "code",
   "execution_count": 12,
   "metadata": {},
   "outputs": [],
   "source": [
    "# 计算Xa，即X的元素,对角线为自感,注意都要乘以长度\n",
    "X = np.zeros((numberCable, numberCable))  # 感抗矩阵，3n×3n\n",
    "for num1 in range(numberCable):  # 计算第num1根电缆的X矩阵元素\n",
    "    circuitIndex = floor(num1/3)\n",
    "    for num2 in range(numberCable):  # 计算第num2根电缆Isnum2的Xa系数\n",
    "        # 先判断num1和num2分别是哪一相电缆，0到2表示A到C\n",
    "        temp1 = num1 % 3\n",
    "        temp2 = num2 % 3\n",
    "        # 根据判断结果分类计算X\n",
    "        if temp1 == temp2:  # 如果都是同一相\n",
    "            if num1 != num2:  # 如果不是同一根电缆\n",
    "                X[num1, num2] = 2 * w * 10**(-4) * log(\n",
    "                    De / distance[num1, num2]) * lengthAll[circuitIndex, 0]\n",
    "            else:  # 相等对角线，为自感\n",
    "                X[num1, num2] = 2 * w * 10**(-4) * log(De / GMRs) * lengthAll[circuitIndex, 0]\n",
    "        else:  # 如果不是同一相电缆\n",
    "            XTemp = np.zeros((1, 3))  # 与三段长度对应的单位互感\n",
    "            if temp1 == 0 and temp2 == 1:  # A与B\n",
    "                XTemp[0, 0] = 2 * w * 10**(-4) * log(\n",
    "                    De / distance[num1, num2])  # AB\n",
    "                XTemp[0, 1] = 2 * w * 10**(-4) * log(\n",
    "                    De / distance[num1 + 1, num2 + 1])  # BC\n",
    "                XTemp[0, 2] = 2 * w * 10**(-4) * log(\n",
    "                    De / distance[num1 + 2, num2 - 1])  # CA\n",
    "            if temp1 == 0 and temp2 == 2:  # A与C\n",
    "                XTemp[0, 0] = 2 * w * 10**(-4) * log(\n",
    "                    De / distance[num1, num2])  # AC\n",
    "                XTemp[0, 1] = 2 * w * 10**(-4) * log(\n",
    "                    De / distance[num1 + 1, num2 - 2])  # BA\n",
    "                XTemp[0, 2] = 2 * w * 10**(-4) * log(\n",
    "                    De / distance[num1 + 2, num2 - 1])  # CB\n",
    "            if temp1 == 1 and temp2 == 0:  # B与A\n",
    "                XTemp[0, 0] = 2 * w * 10**(-4) * log(\n",
    "                    De / distance[num1, num2])  # BA\n",
    "                XTemp[0, 1] = 2 * w * 10**(-4) * log(\n",
    "                    De / distance[num1 + 1, num2 + 1])  # CB\n",
    "                XTemp[0, 2] = 2 * w * 10**(-4) * log(\n",
    "                    De / distance[num1 - 1, num2 + 2])  # AC\n",
    "            if temp1 == 1 and temp2 == 2:  # B与C\n",
    "                XTemp[0, 0] = 2 * w * 10**(-4) * log(\n",
    "                    De / distance[num1, num2])  # BC\n",
    "                XTemp[0, 1] = 2 * w * 10**(-4) * log(\n",
    "                    De / distance[num1 + 1, num2 - 2])  # CA\n",
    "                XTemp[0, 2] = 2 * w * 10**(-4) * log(\n",
    "                    De / distance[num1 - 1, num2 - 1])  # AB\n",
    "            if temp1 == 2 and temp2 == 0:  # C与A\n",
    "                XTemp[0, 0] = 2 * w * 10**(-4) * log(\n",
    "                    De / distance[num1, num2])  # CA\n",
    "                XTemp[0, 1] = 2 * w * 10**(-4) * log(\n",
    "                    De / distance[num1 - 2, num2 + 1])  # AB\n",
    "                XTemp[0, 2] = 2 * w * 10**(-4) * log(\n",
    "                    De / distance[num1 - 1, num2 + 2])  # BC\n",
    "            if temp1 == 2 and temp2 == 1:  # C与B\n",
    "                XTemp[0, 0] = 2 * w * 10**(-4) * log(\n",
    "                    De / distance[num1, num2])  # CB\n",
    "                XTemp[0, 1] = 2 * w * 10**(-4) * log(\n",
    "                    De / distance[num1 - 2, num2 + 1])  # AC\n",
    "                XTemp[0, 2] = 2 * w * 10**(-4) * log(\n",
    "                    De / distance[num1 - 1, num2 - 1])  # BA\n",
    "            X[num1, num2] = XTemp[0, 0] * length[circuitIndex, 0] + XTemp[0, 1] * length[\n",
    "                circuitIndex, 1] + XTemp[0, 2] * length[circuitIndex, 2]"
   ]
  },
  {
   "cell_type": "code",
   "execution_count": 13,
   "metadata": {},
   "outputs": [
    {
     "name": "stdout",
     "output_type": "stream",
     "text": [
      "X [[1.22691423 1.02061922 1.02026324 0.94479004 0.93270677 0.94290636\n",
      "  0.8212913  0.82224416 0.82207866 0.81409166 0.8148876  0.81437136]\n",
      " [1.02061922 1.22691423 1.02021577 0.94368147 0.94479004 0.93310374\n",
      "  0.82229551 0.8212913  0.82210794 0.81462516 0.81409166 0.81483056]\n",
      " [1.02026324 1.02021577 1.22691423 0.93305704 0.94280302 0.94479004\n",
      "  0.8225151  0.82249303 0.8212913  0.81519966 0.81470988 0.81409166]\n",
      " [0.83541413 0.83670245 0.82454521 1.08487753 0.90350664 0.90265229\n",
      "  0.71984637 0.71949339 0.71905111 0.72621252 0.72586901 0.72547182]\n",
      " [0.82370458 0.83541413 0.83029493 0.90350664 1.08487753 0.90056386\n",
      "  0.72136582 0.71984637 0.71964958 0.72812822 0.72621252 0.72676009]\n",
      " [0.8348422  0.82660008 0.83541413 0.90265229 0.90056386 1.08487753\n",
      "  0.72166185 0.72145908 0.71984637 0.72865525 0.72768432 0.72621252]\n",
      " [0.62468044 0.62543935 0.62543935 0.61920434 0.6198744  0.61956726\n",
      "  0.93320034 0.77609824 0.77609824 0.71861453 0.70961335 0.71735211]\n",
      " [0.62543935 0.62468044 0.62543935 0.61956726 0.61920434 0.6198744\n",
      "  0.77609824 0.93320034 0.77609824 0.71735211 0.71861453 0.70961335]\n",
      " [0.62543935 0.62543935 0.62468044 0.6198744  0.61956726 0.61920434\n",
      "  0.77609824 0.77609824 0.93320034 0.70961335 0.71735211 0.71861453]\n",
      " [0.61920434 0.61956726 0.6198744  0.62468044 0.62543935 0.62543935\n",
      "  0.71861453 0.71735211 0.70961335 0.93320034 0.77609824 0.77609824]\n",
      " [0.6198744  0.61920434 0.61956726 0.62543935 0.62468044 0.62543935\n",
      "  0.70961335 0.71861453 0.71735211 0.77609824 0.93320034 0.77609824]\n",
      " [0.61956726 0.6198744  0.61920434 0.62543935 0.62543935 0.62468044\n",
      "  0.71735211 0.70961335 0.71861453 0.77609824 0.77609824 0.93320034]]\n"
     ]
    }
   ],
   "source": [
    "print('X', X)"
   ]
  },
  {
   "cell_type": "markdown",
   "metadata": {},
   "source": [
    "AI=U"
   ]
  },
  {
   "cell_type": "code",
   "execution_count": 14,
   "metadata": {},
   "outputs": [
    {
     "name": "stdout",
     "output_type": "stream",
     "text": [
      "回路0中0相的环流为1.1300730928915932A\n",
      "回路0中1相的环流为0.6355455494913775A\n",
      "回路0中2相的环流为0.8002910787190576A\n",
      "回路1中0相的环流为6.05853082029224A\n",
      "回路1中1相的环流为3.770707326508962A\n",
      "回路1中2相的环流为4.339848726321363A\n",
      "回路2中0相的环流为0.20253368901660387A\n",
      "回路2中1相的环流为0.18931737357250597A\n",
      "回路2中2相的环流为0.19817684326625815A\n",
      "回路3中0相的环流为0.23587684959058453A\n",
      "回路3中1相的环流为0.2563500488426341A\n",
      "回路3中2相的环流为0.253081180546253A\n"
     ]
    }
   ],
   "source": [
    "# AI=U\n",
    "A = np.vstack((np.hstack((R, -X)), np.hstack((X, R))))  # 6n×6n\n",
    "I = np.linalg.inv(A) @ U  # 6n×1，先所有环流的实部，再是说有的虚部\n",
    "ICircular = np.zeros((numberCable, 1))  # 记录每根电缆的环流值,3n×1\n",
    "for num in range(numberCable):\n",
    "    ICircular[num, 0] = sqrt((I[num, 0]**2) + (I[num + numberCable, 0]**2))\n",
    "    temp1 = floor(num / 3)  # 第几个回路\n",
    "    temp2 = num % 3  # 该回路中ABC三相\n",
    "    print('回路{0}中{1}相的环流为{2}A'.format(temp1, temp2, ICircular[num, 0]))"
   ]
  },
  {
   "cell_type": "code",
   "execution_count": null,
   "metadata": {},
   "outputs": [],
   "source": []
  }
 ],
 "metadata": {
  "kernelspec": {
   "display_name": "Python 3",
   "language": "python",
   "name": "python3"
  },
  "language_info": {
   "codemirror_mode": {
    "name": "ipython",
    "version": 3
   },
   "file_extension": ".py",
   "mimetype": "text/x-python",
   "name": "python",
   "nbconvert_exporter": "python",
   "pygments_lexer": "ipython3",
   "version": "3.8.3"
  },
  "varInspector": {
   "cols": {
    "lenName": 16,
    "lenType": 16,
    "lenVar": 40
   },
   "kernels_config": {
    "python": {
     "delete_cmd_postfix": "",
     "delete_cmd_prefix": "del ",
     "library": "var_list.py",
     "varRefreshCmd": "print(var_dic_list())"
    },
    "r": {
     "delete_cmd_postfix": ") ",
     "delete_cmd_prefix": "rm(",
     "library": "var_list.r",
     "varRefreshCmd": "cat(var_dic_list()) "
    }
   },
   "position": {
    "height": "599.85px",
    "left": "1550px",
    "right": "20px",
    "top": "120px",
    "width": "350px"
   },
   "types_to_exclude": [
    "module",
    "function",
    "builtin_function_or_method",
    "instance",
    "_Feature"
   ],
   "window_display": true
  }
 },
 "nbformat": 4,
 "nbformat_minor": 4
}
