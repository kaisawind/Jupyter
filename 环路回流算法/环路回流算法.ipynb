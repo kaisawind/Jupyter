{
 "cells": [
  {
   "cell_type": "markdown",
   "metadata": {},
   "source": [
    "导入numpy包"
   ]
  },
  {
   "cell_type": "code",
   "execution_count": 9,
   "metadata": {},
   "outputs": [
    {
     "data": {
      "text/plain": [
       "'1.19.1'"
      ]
     },
     "execution_count": 9,
     "metadata": {},
     "output_type": "execute_result"
    }
   ],
   "source": [
    "from math import sqrt, pi, log, exp, floor\n",
    "import numpy.matlib\n",
    "import numpy as np\n",
    "np.__version__"
   ]
  },
  {
   "cell_type": "markdown",
   "metadata": {},
   "source": [
    "各电缆间距函数"
   ]
  },
  {
   "cell_type": "code",
   "execution_count": 25,
   "metadata": {},
   "outputs": [],
   "source": [
    "def cal_dis(row, column, typeCircuit, S1, S2, S3, GMRs):\n",
    "    numberCircuit = row * column  # 回路个数，n\n",
    "    numberCable = 3 * numberCircuit  # 电缆数目，3×n\n",
    "    coorCable = np.zeros((numberCable, 2))  # 电缆坐标，以第一根电缆为原点，向上和左为正方向\n",
    "\n",
    "    for i in range(row):  # 行 matlab下标从1开始，numpy下标从0开始\n",
    "        for j in range(column):  # 列\n",
    "            temp1 = i * row + j  # 第几个回路\n",
    "            temp2 = temp1 * 3  # 该回路的第一根电缆，上或者中间\n",
    "            if typeCircuit[temp1][0] == 1:  # 对于三角形排列\n",
    "                coorCable[temp2, 0] = j * S1\n",
    "                coorCable[temp2, 1] = i * S1\n",
    "                coorCable[temp2 + 1, 0] = j * S1 - 0.5 * S3\n",
    "                coorCable[temp2 + 1, 1] = i * S1 - sqrt(S2**2 - (0.5 * S3)**2)\n",
    "                coorCable[temp2 + 2, 0] = j * S1 + 0.5 * S3\n",
    "                coorCable[temp2 + 2, 1] = i * S1 - sqrt(S2**2 - (0.5 * S3)**2)\n",
    "            else:\n",
    "                coorCable[temp2, 0] = j * S1\n",
    "                coorCable[temp2, 1] = i * S1\n",
    "                coorCable[temp2 + 1, 0] = j * S1 - S2\n",
    "                coorCable[temp2 + 1, 1] = i * S1\n",
    "                coorCable[temp2 + 2, 0] = j * S1 + S2\n",
    "                coorCable[temp2 + 2, 1] = i * S1\n",
    "    \n",
    "    print('coorCable', coorCable)\n",
    "    distance = np.zeros((numberCable, numberCable))\n",
    "\n",
    "    for i in range(numberCable):\n",
    "        for j in range(numberCable):\n",
    "            if i != j:\n",
    "                distance[i, j] = sqrt((coorCable[i, 0] - coorCable[j, 0])**2 +\n",
    "                                      (coorCable[i, 1] - coorCable[j, 1])**2)\n",
    "            else:\n",
    "                distance[i, j] = GMRs\n",
    "\n",
    "    return distance"
   ]
  },
  {
   "cell_type": "markdown",
   "metadata": {},
   "source": [
    "初始化参数"
   ]
  },
  {
   "cell_type": "code",
   "execution_count": 26,
   "metadata": {},
   "outputs": [],
   "source": [
    "row = 1  # 回路排列的行数\n",
    "column = 4  # 回路排列的列数\n",
    "numberCircuit = row * column  # 回路个数，n\n",
    "numberCable = 3 * numberCircuit  # 电缆总数目，3×n\n",
    "\n",
    "# 各回路的类型(列向量,三角型输入1，直线型输入2)\n",
    "typeCircuit = np.ones((4, 1), dtype=int)  # [1;1;1;1]\n",
    "\n",
    "S1 = 540  # 回路间距/mm\n",
    "S2 = 302  # 回路内三角形腰长，或直线型相邻电缆间距/mm\n",
    "S3 = 270  # 三角形底长/mm\n",
    "GMRs = 47.6  # 电缆的金属护套的几何平均半径，/mm,可用护套的内外径的平均值代替"
   ]
  },
  {
   "cell_type": "code",
   "execution_count": 27,
   "metadata": {},
   "outputs": [
    {
     "name": "stdout",
     "output_type": "stream",
     "text": [
      "回路的类型: [[1]\n",
      " [1]\n",
      " [1]\n",
      " [1]]\n"
     ]
    }
   ],
   "source": [
    "print('回路的类型:', typeCircuit)"
   ]
  },
  {
   "cell_type": "code",
   "execution_count": 28,
   "metadata": {},
   "outputs": [
    {
     "name": "stdout",
     "output_type": "stream",
     "text": [
      "coorCable [[   0.            0.        ]\n",
      " [-135.         -270.14625668]\n",
      " [ 135.         -270.14625668]\n",
      " [ 540.            0.        ]\n",
      " [ 405.         -270.14625668]\n",
      " [ 675.         -270.14625668]\n",
      " [1080.            0.        ]\n",
      " [ 945.         -270.14625668]\n",
      " [1215.         -270.14625668]\n",
      " [1620.            0.        ]\n",
      " [1485.         -270.14625668]\n",
      " [1755.         -270.14625668]]\n"
     ]
    }
   ],
   "source": [
    "distance = cal_dis(row, column, typeCircuit, S1, S2, S3, GMRs)  # 各电缆间距"
   ]
  },
  {
   "cell_type": "code",
   "execution_count": 24,
   "metadata": {},
   "outputs": [
    {
     "name": "stdout",
     "output_type": "stream",
     "text": [
      "各电缆间距: [[  47.6         302.          302.          540.          486.83056601\n",
      "   727.05158001 1080.          982.85502491 1244.67023745 1620.\n",
      "  1509.37205486 1775.67001439]\n",
      " [ 302.           47.6         270.          727.05158001  540.\n",
      "   810.         1244.67023745 1080.         1350.         1775.67001439\n",
      "  1620.         1890.        ]\n",
      " [ 302.          270.           47.6         486.83056601  270.\n",
      "   540.          982.85502491  810.         1080.         1509.37205486\n",
      "  1350.         1620.        ]\n",
      " [ 540.          727.05158001  486.83056601   47.6         302.\n",
      "   302.          540.          486.83056601  727.05158001 1080.\n",
      "   982.85502491 1244.67023745]\n",
      " [ 486.83056601  540.          270.          302.           47.6\n",
      "   270.          727.05158001  540.          810.         1244.67023745\n",
      "  1080.         1350.        ]\n",
      " [ 727.05158001  810.          540.          302.          270.\n",
      "    47.6         486.83056601  270.          540.          982.85502491\n",
      "   810.         1080.        ]\n",
      " [1080.         1244.67023745  982.85502491  540.          727.05158001\n",
      "   486.83056601   47.6         302.          302.          540.\n",
      "   486.83056601  727.05158001]\n",
      " [ 982.85502491 1080.          810.          486.83056601  540.\n",
      "   270.          302.           47.6         270.          727.05158001\n",
      "   540.          810.        ]\n",
      " [1244.67023745 1350.         1080.          727.05158001  810.\n",
      "   540.          302.          270.           47.6         486.83056601\n",
      "   270.          540.        ]\n",
      " [1620.         1775.67001439 1509.37205486 1080.         1244.67023745\n",
      "   982.85502491  540.          727.05158001  486.83056601   47.6\n",
      "   302.          302.        ]\n",
      " [1509.37205486 1620.         1350.          982.85502491 1080.\n",
      "   810.          486.83056601  540.          270.          302.\n",
      "    47.6         270.        ]\n",
      " [1775.67001439 1890.         1620.         1244.67023745 1350.\n",
      "  1080.          727.05158001  810.          540.          302.\n",
      "   270.           47.6       ]]\n"
     ]
    }
   ],
   "source": [
    "print('各电缆间距:', distance)"
   ]
  },
  {
   "cell_type": "code",
   "execution_count": 15,
   "metadata": {},
   "outputs": [],
   "source": [
    "length = np.zeros((1, 3))  # 交叉互联三段长度/km\n",
    "length[0, 0] = 0.484  # 第一段长度\n",
    "length[0, 1] = 0.484  # 第二段长度\n",
    "length[0, 2] = 0.484  # 第三段长度\n",
    "lengthAll = np.sum(length)  # 电缆总长/km"
   ]
  },
  {
   "cell_type": "code",
   "execution_count": 16,
   "metadata": {},
   "outputs": [
    {
     "name": "stdout",
     "output_type": "stream",
     "text": [
      "电缆总长:1.452km\n"
     ]
    }
   ],
   "source": [
    "print('电缆总长:{0}km'.format(lengthAll))"
   ]
  },
  {
   "cell_type": "code",
   "execution_count": 17,
   "metadata": {},
   "outputs": [],
   "source": [
    "R1 = 0.001  # 一端口接地电阻/Ω\n",
    "R2 = 0.001  # 二端口接地电阻/Ω\n",
    "EarthResistivity = 400  # 大地电阻率/Ω*m\n",
    "RSheathUint = 0.2076  # 护套单位电阻/Ω/km\n",
    "IA = 412.2  # A相负载电流，默认相序为0"
   ]
  },
  {
   "cell_type": "markdown",
   "metadata": {},
   "source": [
    "计算每一相电缆的负载电流"
   ]
  },
  {
   "cell_type": "code",
   "execution_count": 18,
   "metadata": {},
   "outputs": [],
   "source": [
    "# 计算每一相电缆的负载电流\n",
    "ILoad = np.zeros((numberCable, 1), dtype=complex)  # 电缆的负载电流/A，包含了实虚部,\n",
    "for num in range(0, numberCable, 3):\n",
    "    ILoad[num, 0] = IA  # A相负载电流\n",
    "    ILoad[num + 1, 0] = -0.5 * IA - sqrt(3) / 2 * IA * 1j  # B相负载电流\n",
    "    ILoad[num + 2, 0] = -0.5 * IA + sqrt(3) / 2 * IA * 1j  # C相负载电流"
   ]
  },
  {
   "cell_type": "code",
   "execution_count": 19,
   "metadata": {},
   "outputs": [
    {
     "name": "stdout",
     "output_type": "stream",
     "text": [
      "负载电流: [[ 412.2  +0.j        ]\n",
      " [-206.1-356.97567144j]\n",
      " [-206.1+356.97567144j]\n",
      " [ 412.2  +0.j        ]\n",
      " [-206.1-356.97567144j]\n",
      " [-206.1+356.97567144j]\n",
      " [ 412.2  +0.j        ]\n",
      " [-206.1-356.97567144j]\n",
      " [-206.1+356.97567144j]\n",
      " [ 412.2  +0.j        ]\n",
      " [-206.1-356.97567144j]\n",
      " [-206.1+356.97567144j]]\n"
     ]
    }
   ],
   "source": [
    "print('负载电流:', ILoad)"
   ]
  },
  {
   "cell_type": "markdown",
   "metadata": {},
   "source": [
    "计算右端感应电压"
   ]
  },
  {
   "cell_type": "code",
   "execution_count": 21,
   "metadata": {},
   "outputs": [
    {
     "name": "stdout",
     "output_type": "stream",
     "text": [
      "[[  47.6         302.          302.          540.          486.83056601\n",
      "   727.05158001 1080.          982.85502491 1244.67023745 1620.\n",
      "  1509.37205486 1775.67001439]\n",
      " [ 302.           47.6         270.          727.05158001  540.\n",
      "   810.         1244.67023745 1080.         1350.         1775.67001439\n",
      "  1620.         1890.        ]\n",
      " [ 302.          270.           47.6         486.83056601  270.\n",
      "   540.          982.85502491  810.         1080.         1509.37205486\n",
      "  1350.         1620.        ]\n",
      " [ 540.          727.05158001  486.83056601   47.6         302.\n",
      "   302.          540.          486.83056601  727.05158001 1080.\n",
      "   982.85502491 1244.67023745]\n",
      " [ 486.83056601  540.          270.          302.           47.6\n",
      "   270.          727.05158001  540.          810.         1244.67023745\n",
      "  1080.         1350.        ]\n",
      " [ 727.05158001  810.          540.          302.          270.\n",
      "    47.6         486.83056601  270.          540.          982.85502491\n",
      "   810.         1080.        ]\n",
      " [1080.         1244.67023745  982.85502491  540.          727.05158001\n",
      "   486.83056601   47.6         302.          302.          540.\n",
      "   486.83056601  727.05158001]\n",
      " [ 982.85502491 1080.          810.          486.83056601  540.\n",
      "   270.          302.           47.6         270.          727.05158001\n",
      "   540.          810.        ]\n",
      " [1244.67023745 1350.         1080.          727.05158001  810.\n",
      "   540.          302.          270.           47.6         486.83056601\n",
      "   270.          540.        ]\n",
      " [1620.         1775.67001439 1509.37205486 1080.         1244.67023745\n",
      "   982.85502491  540.          727.05158001  486.83056601   47.6\n",
      "   302.          302.        ]\n",
      " [1509.37205486 1620.         1350.          982.85502491 1080.\n",
      "   810.          486.83056601  540.          270.          302.\n",
      "    47.6         270.        ]\n",
      " [1775.67001439 1890.         1620.         1244.67023745 1350.\n",
      "  1080.          727.05158001  810.          540.          302.\n",
      "   270.           47.6       ]]\n",
      "47.6\n"
     ]
    }
   ],
   "source": [
    "print(distance)\n",
    "print(GMRs)\n",
    "frequency = 50  # 负载电流频率\n",
    "w = 2 * pi * frequency\n",
    "ULoad = np.zeros((numberCable, 1), dtype=complex)\n",
    "fluxAll = np.zeros((numberCable, 1), dtype=complex)  # 计算每一根电缆的总磁通/(Wb/km)\n",
    "E = np.zeros((numberCable, 1), dtype=complex)  # 每根电缆单位长度的感应电动势/V/km\n",
    "for num in range(numberCable):\n",
    "    for j in range(numberCable):\n",
    "        fluxAll[num, 0] = fluxAll[num, 0] + 2 * (10**(-4)) * ILoad[j, 0] * log(\n",
    "            distance[num, j] / GMRs)\n",
    "    E[num, 0] = -w * fluxAll[num, 0] * 1j\n",
    "\n",
    "for num in range(numberCircuit):  # 回路数\n",
    "    for j in range(3):  # 相数\n",
    "        if j == 0:\n",
    "            ULoad[num * 3 + j,\n",
    "                  0] = E[0 + 3 * num, 0] * length[0, 0] + E[1 + 3 * num][\n",
    "                      0] * length[0, 1] + E[2 + 3 * num, 0] * length[0, 2]\n",
    "        elif j == 1:\n",
    "            ULoad[num * 3 + j, 0] = E[1 + 3 * num, 0] * length[0, 0] + E[\n",
    "                2 + 3 * num] * length[0, 1] + E[0 + 3 * num, 0] * length[0, 2]\n",
    "        elif j == 2:\n",
    "            ULoad[num * 3 + j, 0] = E[2 + 3 * num, 0] * length[0, 0] + E[\n",
    "                0 + 3 * num] * length[0, 1] + E[1 + 3 * num, 0] * length[0, 2]\n",
    "\n",
    "UR = ULoad.real  # 负载感应电压实部\n",
    "UF = ULoad.imag  # 负载感应电压虚部\n",
    "U = np.transpose([np.append(UR, UF)])  # 6n×1"
   ]
  },
  {
   "cell_type": "code",
   "execution_count": 13,
   "metadata": {},
   "outputs": [
    {
     "name": "stdout",
     "output_type": "stream",
     "text": [
      "负载感应电压: [[ 29.80625509]\n",
      " [ 29.80625509]\n",
      " [ 29.80625509]\n",
      " [  8.1092106 ]\n",
      " [  8.1092106 ]\n",
      " [  8.1092106 ]\n",
      " [ -8.1092106 ]\n",
      " [ -8.1092106 ]\n",
      " [ -8.1092106 ]\n",
      " [-29.80625509]\n",
      " [-29.80625509]\n",
      " [-29.80625509]\n",
      " [ -5.43309975]\n",
      " [ -5.43309975]\n",
      " [ -5.43309975]\n",
      " [ -8.14239017]\n",
      " [ -8.14239017]\n",
      " [ -8.14239017]\n",
      " [ -8.14239017]\n",
      " [ -8.14239017]\n",
      " [ -8.14239017]\n",
      " [ -5.43309975]\n",
      " [ -5.43309975]\n",
      " [ -5.43309975]]\n"
     ]
    }
   ],
   "source": [
    "print('负载感应电压:', U)"
   ]
  },
  {
   "cell_type": "markdown",
   "metadata": {},
   "source": [
    "计算R矩阵"
   ]
  },
  {
   "cell_type": "code",
   "execution_count": 14,
   "metadata": {},
   "outputs": [],
   "source": [
    "# 计算R矩阵\n",
    "De = sqrt(exp(12.981) * EarthResistivity / frequency) * 1000  # 护套等值深度/mm\n",
    "REarth = (pi**2) * frequency * 0.0001 * (lengthAll + 2 * De * (10**(-6)))\n",
    "RA = R1 + R2 + REarth + RSheathUint * lengthAll\n",
    "RB = R1 + R2 + REarth\n",
    "R = np.zeros((numberCable, numberCable))  # 3n×3n\n",
    "for num in range(numberCable):\n",
    "    if num % 3 == 0:  # A相\n",
    "        R[num, num] = RA\n",
    "        R[num, num + 1] = RB\n",
    "        R[num, num + 2] = RB\n",
    "    elif num % 3 == 1:  # B相\n",
    "        R[num, num] = RA\n",
    "        R[num, num + 1] = RB\n",
    "        R[num, num - 1] = RB\n",
    "    elif num % 3 == 2:  # C相\n",
    "        R[num, num] = RA\n",
    "        R[num, num - 1] = RB\n",
    "        R[num, num - 2] = RB"
   ]
  },
  {
   "cell_type": "code",
   "execution_count": 15,
   "metadata": {},
   "outputs": [
    {
     "name": "stdout",
     "output_type": "stream",
     "text": [
      "R: [[0.55901027 0.25757507 0.25757507 0.         0.         0.\n",
      "  0.         0.         0.         0.         0.         0.        ]\n",
      " [0.25757507 0.55901027 0.25757507 0.         0.         0.\n",
      "  0.         0.         0.         0.         0.         0.        ]\n",
      " [0.25757507 0.25757507 0.55901027 0.         0.         0.\n",
      "  0.         0.         0.         0.         0.         0.        ]\n",
      " [0.         0.         0.         0.55901027 0.25757507 0.25757507\n",
      "  0.         0.         0.         0.         0.         0.        ]\n",
      " [0.         0.         0.         0.25757507 0.55901027 0.25757507\n",
      "  0.         0.         0.         0.         0.         0.        ]\n",
      " [0.         0.         0.         0.25757507 0.25757507 0.55901027\n",
      "  0.         0.         0.         0.         0.         0.        ]\n",
      " [0.         0.         0.         0.         0.         0.\n",
      "  0.55901027 0.25757507 0.25757507 0.         0.         0.        ]\n",
      " [0.         0.         0.         0.         0.         0.\n",
      "  0.25757507 0.55901027 0.25757507 0.         0.         0.        ]\n",
      " [0.         0.         0.         0.         0.         0.\n",
      "  0.25757507 0.25757507 0.55901027 0.         0.         0.        ]\n",
      " [0.         0.         0.         0.         0.         0.\n",
      "  0.         0.         0.         0.55901027 0.25757507 0.25757507]\n",
      " [0.         0.         0.         0.         0.         0.\n",
      "  0.         0.         0.         0.25757507 0.55901027 0.25757507]\n",
      " [0.         0.         0.         0.         0.         0.\n",
      "  0.         0.         0.         0.25757507 0.25757507 0.55901027]]\n"
     ]
    }
   ],
   "source": [
    "print('R:', R)"
   ]
  },
  {
   "cell_type": "markdown",
   "metadata": {},
   "source": [
    "计算Xa，即X的元素,对角线为自感,注意都要乘以长度"
   ]
  },
  {
   "cell_type": "code",
   "execution_count": 16,
   "metadata": {},
   "outputs": [],
   "source": [
    "# 计算Xa，即X的元素,对角线为自感,注意都要乘以长度\n",
    "X = np.zeros((numberCable, numberCable))  # 感抗矩阵，3n×3n\n",
    "for num1 in range(numberCable):  # 计算第num1根电缆的X矩阵元素\n",
    "    for num2 in range(numberCable):  # 计算第num2根电缆Isnum2的Xa系数\n",
    "        # 先判断num1和num2分别是哪一相电缆，0到2表示A到C\n",
    "        temp1 = num1 % 3\n",
    "        temp2 = num2 % 3\n",
    "        # 根据判断结果分类计算X\n",
    "        if temp1 == temp2:  # 如果都是同一相\n",
    "            if num1 != num2:  # 如果不是同一根电缆\n",
    "                X[num1, num2] = 2 * w * 10**(-4) * log(\n",
    "                    De / distance[num1, num2]) * lengthAll\n",
    "            else:  # 相等对角线，为自感\n",
    "                X[num1, num2] = 2 * w * 10**(-4) * log(De / GMRs) * lengthAll\n",
    "        else:  # 如果不是同一相电缆\n",
    "            XTemp = np.zeros((1, 3))  # 与三段长度对应的单位互感\n",
    "            if temp1 == 0 and temp2 == 1:  # A与B\n",
    "                XTemp[0, 0] = 2 * w * 10**(-4) * log(\n",
    "                    De / distance[num1, num2])  # AB\n",
    "                XTemp[0, 1] = 2 * w * 10**(-4) * log(\n",
    "                    De / distance[num1 + 1, num2 + 1])  # BC\n",
    "                XTemp[0, 2] = 2 * w * 10**(-4) * log(\n",
    "                    De / distance[num1 + 2, num2 - 1])  # CA\n",
    "            if temp1 == 0 and temp2 == 2:  # A与C\n",
    "                XTemp[0, 0] = 2 * w * 10**(-4) * log(\n",
    "                    De / distance[num1, num2])  # AC\n",
    "                XTemp[0, 1] = 2 * w * 10**(-4) * log(\n",
    "                    De / distance[num1 + 1, num2 - 2])  # BA\n",
    "                XTemp[0, 2] = 2 * w * 10**(-4) * log(\n",
    "                    De / distance[num1 + 2, num2 - 1])  # CB\n",
    "            if temp1 == 1 and temp2 == 0:  # B与A\n",
    "                XTemp[0, 0] = 2 * w * 10**(-4) * log(\n",
    "                    De / distance[num1, num2])  # BA\n",
    "                XTemp[0, 1] = 2 * w * 10**(-4) * log(\n",
    "                    De / distance[num1 + 1, num2 + 1])  # CB\n",
    "                XTemp[0, 2] = 2 * w * 10**(-4) * log(\n",
    "                    De / distance[num1 - 1, num2 + 2])  # AC\n",
    "            if temp1 == 1 and temp2 == 2:  # B与C\n",
    "                XTemp[0, 0] = 2 * w * 10**(-4) * log(\n",
    "                    De / distance[num1, num2])  # BC\n",
    "                XTemp[0, 1] = 2 * w * 10**(-4) * log(\n",
    "                    De / distance[num1 + 1, num2 - 2])  # CA\n",
    "                XTemp[0, 2] = 2 * w * 10**(-4) * log(\n",
    "                    De / distance[num1 - 1, num2 - 1])  # AB\n",
    "            if temp1 == 2 and temp2 == 0:  # C与A\n",
    "                XTemp[0, 0] = 2 * w * 10**(-4) * log(\n",
    "                    De / distance[num1, num2])  # CA\n",
    "                XTemp[0, 1] = 2 * w * 10**(-4) * log(\n",
    "                    De / distance[num1 - 2, num2 + 1])  # AB\n",
    "                XTemp[0, 2] = 2 * w * 10**(-4) * log(\n",
    "                    De / distance[num1 - 1, num2 + 2])  # BC\n",
    "            if temp1 == 2 and temp2 == 1:  # C与B\n",
    "                XTemp[0, 0] = 2 * w * 10**(-4) * log(\n",
    "                    De / distance[num1, num2])  # CB\n",
    "                XTemp[0, 1] = 2 * w * 10**(-4) * log(\n",
    "                    De / distance[num1 - 2, num2 + 1])  # AC\n",
    "                XTemp[0, 2] = 2 * w * 10**(-4) * log(\n",
    "                    De / distance[num1 - 1, num2 - 1])  # BA\n",
    "            X[num1, num2] = XTemp[0, 0] * length[0, 0] + XTemp[0, 1] * length[\n",
    "                0, 1] + XTemp[0, 2] * length[0, 2]"
   ]
  },
  {
   "cell_type": "code",
   "execution_count": 17,
   "metadata": {},
   "outputs": [
    {
     "name": "stdout",
     "output_type": "stream",
     "text": [
      "X [[0.96478989 0.79963659 0.79963659 0.74321178 0.73718564 0.74620086\n",
      "  0.67997468 0.67892143 0.68009215 0.64298335 0.64259756 0.64294741]\n",
      " [0.79963659 0.96478989 0.79963659 0.74620086 0.74321178 0.73718564\n",
      "  0.68009215 0.67997468 0.67892143 0.64294741 0.64298335 0.64259756]\n",
      " [0.79963659 0.79963659 0.96478989 0.73718564 0.74620086 0.74321178\n",
      "  0.67892143 0.68009215 0.67997468 0.64259756 0.64294741 0.64298335]\n",
      " [0.74321178 0.74620086 0.73718564 0.96478989 0.79963659 0.79963659\n",
      "  0.74321178 0.73718564 0.74620086 0.67997468 0.67892143 0.68009215]\n",
      " [0.73718564 0.74321178 0.74620086 0.79963659 0.96478989 0.79963659\n",
      "  0.74620086 0.74321178 0.73718564 0.68009215 0.67997468 0.67892143]\n",
      " [0.74620086 0.73718564 0.74321178 0.79963659 0.79963659 0.96478989\n",
      "  0.73718564 0.74620086 0.74321178 0.67892143 0.68009215 0.67997468]\n",
      " [0.67997468 0.68009215 0.67892143 0.74321178 0.74620086 0.73718564\n",
      "  0.96478989 0.79963659 0.79963659 0.74321178 0.73718564 0.74620086]\n",
      " [0.67892143 0.67997468 0.68009215 0.73718564 0.74321178 0.74620086\n",
      "  0.79963659 0.96478989 0.79963659 0.74620086 0.74321178 0.73718564]\n",
      " [0.68009215 0.67892143 0.67997468 0.74620086 0.73718564 0.74321178\n",
      "  0.79963659 0.79963659 0.96478989 0.73718564 0.74620086 0.74321178]\n",
      " [0.64298335 0.64294741 0.64259756 0.67997468 0.68009215 0.67892143\n",
      "  0.74321178 0.74620086 0.73718564 0.96478989 0.79963659 0.79963659]\n",
      " [0.64259756 0.64298335 0.64294741 0.67892143 0.67997468 0.68009215\n",
      "  0.73718564 0.74321178 0.74620086 0.79963659 0.96478989 0.79963659]\n",
      " [0.64294741 0.64259756 0.64298335 0.68009215 0.67892143 0.67997468\n",
      "  0.74620086 0.73718564 0.74321178 0.79963659 0.79963659 0.96478989]]\n"
     ]
    }
   ],
   "source": [
    "print('X', X)"
   ]
  },
  {
   "cell_type": "markdown",
   "metadata": {},
   "source": [
    "AI=U"
   ]
  },
  {
   "cell_type": "code",
   "execution_count": 19,
   "metadata": {},
   "outputs": [
    {
     "name": "stdout",
     "output_type": "stream",
     "text": [
      "回路0中0相的环流为22.369115786452955A\n",
      "回路0中1相的环流为22.369115786452905A\n",
      "回路0中2相的环流为22.36911578645294A\n",
      "回路1中0相的环流为6.418633588066145A\n",
      "回路1中1相的环流为6.4186335880660765A\n",
      "回路1中2相的环流为6.418633588066016A\n",
      "回路2中0相的环流为6.182138574819549A\n",
      "回路2中1相的环流为6.182138574819656A\n",
      "回路2中2相的环流为6.182138574819632A\n",
      "回路3中0相的环流为24.021865612065092A\n",
      "回路3中1相的环流为24.021865612065444A\n",
      "回路3中2相的环流为24.02186561206548A\n"
     ]
    }
   ],
   "source": [
    "# AI=U\n",
    "A = np.vstack((np.hstack((R, -X)), np.hstack((X, R))))  # 6n×6n\n",
    "I = np.matrix(A).I * U  # 6n×1，先所有环流的实部，再是说有的虚部\n",
    "ICircular = np.zeros((numberCable, 1))  # 记录每根电缆的环流值,3n×1\n",
    "for num in range(numberCable):\n",
    "    ICircular[num, 0] = sqrt((I[num, 0]**2) + (I[num + numberCable, 0]**2))\n",
    "    temp1 = floor(num / 3)  # 第几个回路\n",
    "    temp2 = num % 3  # 该回路中ABC三相\n",
    "    print('回路{0}中{1}相的环流为{2}A'.format(temp1, temp2, ICircular[num, 0]))"
   ]
  },
  {
   "cell_type": "code",
   "execution_count": null,
   "metadata": {},
   "outputs": [],
   "source": []
  },
  {
   "cell_type": "code",
   "execution_count": null,
   "metadata": {},
   "outputs": [],
   "source": []
  },
  {
   "cell_type": "code",
   "execution_count": null,
   "metadata": {},
   "outputs": [],
   "source": []
  }
 ],
 "metadata": {
  "kernelspec": {
   "display_name": "Python 3",
   "language": "python",
   "name": "python3"
  },
  "language_info": {
   "codemirror_mode": {
    "name": "ipython",
    "version": 3
   },
   "file_extension": ".py",
   "mimetype": "text/x-python",
   "name": "python",
   "nbconvert_exporter": "python",
   "pygments_lexer": "ipython3",
   "version": "3.8.5"
  },
  "varInspector": {
   "cols": {
    "lenName": 16,
    "lenType": 16,
    "lenVar": 40
   },
   "kernels_config": {
    "python": {
     "delete_cmd_postfix": "",
     "delete_cmd_prefix": "del ",
     "library": "var_list.py",
     "varRefreshCmd": "print(var_dic_list())"
    },
    "r": {
     "delete_cmd_postfix": ") ",
     "delete_cmd_prefix": "rm(",
     "library": "var_list.r",
     "varRefreshCmd": "cat(var_dic_list()) "
    }
   },
   "oldHeight": 754.85,
   "position": {
    "height": "40px",
    "left": "1332px",
    "right": "20px",
    "top": "99px",
    "width": "589px"
   },
   "types_to_exclude": [
    "module",
    "function",
    "builtin_function_or_method",
    "instance",
    "_Feature"
   ],
   "varInspector_section_display": "none",
   "window_display": true
  }
 },
 "nbformat": 4,
 "nbformat_minor": 4
}
