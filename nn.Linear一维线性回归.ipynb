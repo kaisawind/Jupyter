{
 "cells": [
  {
   "cell_type": "markdown",
   "metadata": {},
   "source": [
    "# 一维线性回归nn.Linear\n",
    "\n",
    "实现`y = 2x`的训练和预测\n",
    "\n",
    "## 1. 构造模型"
   ]
  },
  {
   "cell_type": "code",
   "execution_count": 1,
   "metadata": {},
   "outputs": [],
   "source": [
    "from torch import nn\n",
    "from torch import optim\n",
    "import torch\n",
    "from matplotlib import pyplot as plt\n",
    "\n",
    "class OneLinearModel(nn.Module):\n",
    "    \n",
    "    def __init__(self):\n",
    "        super(OneLinearModel, self).__init__()\n",
    "        self.linear = nn.Linear(1, 1) # 输入输出一维\n",
    "        \n",
    "    def forward(self, x):\n",
    "        y_pred = self.linear(x) # y_pred为预测的值\n",
    "        return y_pred"
   ]
  },
  {
   "cell_type": "markdown",
   "metadata": {},
   "source": [
    "## 2. 损失函数\n",
    "\n",
    "* `nn.MSELoss` 平方损失函数\n",
    "*  `y_pred - y` 差"
   ]
  },
  {
   "cell_type": "markdown",
   "metadata": {},
   "source": [
    "## 3. 梯度更新\n",
    "\n",
    "* `BGD` 批量梯度下降\n",
    "* `SGD` 随机梯度下降"
   ]
  },
  {
   "cell_type": "markdown",
   "metadata": {},
   "source": [
    "## 4. 训练"
   ]
  },
  {
   "cell_type": "code",
   "execution_count": 2,
   "metadata": {},
   "outputs": [],
   "source": [
    "def train():\n",
    "    model = OneLinearModel()\n",
    "    criterion = nn.MSELoss()\n",
    "    optimizer = optim.SGD(model.parameters(), lr=0.01)\n",
    "\n",
    "    x_data = torch.rand(100, 1) * 10\n",
    "    y_data = 2 * x_data\n",
    "    loss_data = []\n",
    "\n",
    "    for epoch in range(10):\n",
    "        y_pred = model(x_data)\n",
    "\n",
    "        loss = criterion(y_pred, y_data)\n",
    "\n",
    "        loss_data.append(loss.detach().numpy())\n",
    "\n",
    "        optimizer.zero_grad()  # 清空模型参数的梯度\n",
    "\n",
    "        loss.backward()  # 反向传播\n",
    "\n",
    "        optimizer.step()\n",
    "\n",
    "    plt.plot(loss_data)\n",
    "    return model"
   ]
  },
  {
   "cell_type": "markdown",
   "metadata": {},
   "source": [
    "## 5. 验证"
   ]
  },
  {
   "cell_type": "code",
   "execution_count": 3,
   "metadata": {},
   "outputs": [
    {
     "name": "stdout",
     "output_type": "stream",
     "text": [
      "tensor([3.5679], grad_fn=<ViewBackward0>)\n"
     ]
    },
    {
     "data": {
      "image/png": "[encoded data removed]",
      "text/plain": [
       "<Figure size 640x480 with 1 Axes>"
      ]
     },
     "metadata": {},
     "output_type": "display_data"
    }
   ],
   "source": [
    "model = train()\n",
    "model.eval()\n",
    "y = model(torch.Tensor([2.0]))\n",
    "print(y)"
   ]
  }
 ],
 "metadata": {
  "kernelspec": {
   "display_name": "venv",
   "language": "python",
   "name": "python3"
  },
  "language_info": {
   "codemirror_mode": {
    "name": "ipython",
    "version": 3
   },
   "file_extension": ".py",
   "mimetype": "text/x-python",
   "name": "python",
   "nbconvert_exporter": "python",
   "pygments_lexer": "ipython3",
   "version": "3.8.10"
  }
 },
 "nbformat": 4,
 "nbformat_minor": 2
}
