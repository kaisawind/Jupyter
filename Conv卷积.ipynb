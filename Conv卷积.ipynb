{
 "cells": [
  {
   "cell_type": "markdown",
   "metadata": {},
   "source": [
    "# 卷积"
   ]
  },
  {
   "cell_type": "markdown",
   "metadata": {},
   "source": [
    "## 1. 一维卷积"
   ]
  },
  {
   "cell_type": "code",
   "execution_count": 62,
   "metadata": {},
   "outputs": [
    {
     "name": "stdout",
     "output_type": "stream",
     "text": [
      "conv1 torch.Size([5, 10, 1])\n",
      "x1 torch.Size([1, 10, 1]) tensor([[[0.],\n",
      "         [1.],\n",
      "         [2.],\n",
      "         [3.],\n",
      "         [4.],\n",
      "         [5.],\n",
      "         [6.],\n",
      "         [7.],\n",
      "         [8.],\n",
      "         [9.]]])\n",
      "y1 torch.Size([1, 5, 1]) tensor([[[285.],\n",
      "         [285.],\n",
      "         [285.],\n",
      "         [285.],\n",
      "         [285.]]], grad_fn=<ConvolutionBackward0>)\n",
      "y1_ torch.Size([1, 5, 1]) tensor([[[285.],\n",
      "         [285.],\n",
      "         [285.],\n",
      "         [285.],\n",
      "         [285.]]], grad_fn=<CopySlices>)\n"
     ]
    }
   ],
   "source": [
    "import torch\n",
    "from torch import Tensor, nn\n",
    "import torch.nn.functional as F\n",
    "\n",
    "conv1 = nn.Conv1d(10, 5, kernel_size=1, padding=0, bias=False)\n",
    "nn.init.constant_(conv1.weight, 1)\n",
    "conv1.weight =nn.Parameter(torch.arange(10.0, dtype=torch.float).reshape(1, 10, 1).expand(5, 10, 1))\n",
    "print('conv1', conv1.weight.shape)\n",
    "\n",
    "x = torch.arange(10.0, dtype=torch.float)\n",
    "\n",
    "x1 = torch.reshape(x, (1, 10, 1))\n",
    "y1 = conv1(x1)\n",
    "\n",
    "print('x1', x1.shape, x1)\n",
    "print('y1', y1.shape, y1)\n",
    "\n",
    "def conv_1d(input: Tensor, weight: Tensor):\n",
    "    # input = (batch, input_channels, iW)\n",
    "    # weight = (output_channels, input_channels, iW)\n",
    "    o = torch.zeros(input.shape[0], weight.shape[0], input.shape[2])  # (batch, output_channels, iW) = 1, 5, 1\n",
    "    \n",
    "    for batch in range(o.shape[0]): # batch\n",
    "        for c in range(o.shape[1]): # output_channels\n",
    "            o[batch, c] = (weight[c] * input[batch]).sum() # 求和 s += weight[c][j][iW] * input[batch][j][iW]\n",
    "    \n",
    "    return o    \n",
    "\n",
    "\n",
    "y1_ = conv_1d(x1, conv1.weight)\n",
    "print('y1_', y1_.shape, y1_)"
   ]
  },
  {
   "cell_type": "markdown",
   "metadata": {},
   "source": [
    "## 2. 二维卷积"
   ]
  },
  {
   "cell_type": "code",
   "execution_count": 61,
   "metadata": {},
   "outputs": [
    {
     "name": "stdout",
     "output_type": "stream",
     "text": [
      "conv2 torch.Size([5, 10, 1, 1])\n",
      "x2 torch.Size([1, 10, 2, 3]) tensor([[[[ 0.,  1.,  2.],\n",
      "          [ 3.,  4.,  5.]],\n",
      "\n",
      "         [[ 6.,  7.,  8.],\n",
      "          [ 9., 10., 11.]],\n",
      "\n",
      "         [[12., 13., 14.],\n",
      "          [15., 16., 17.]],\n",
      "\n",
      "         [[18., 19., 20.],\n",
      "          [21., 22., 23.]],\n",
      "\n",
      "         [[24., 25., 26.],\n",
      "          [27., 28., 29.]],\n",
      "\n",
      "         [[30., 31., 32.],\n",
      "          [33., 34., 35.]],\n",
      "\n",
      "         [[36., 37., 38.],\n",
      "          [39., 40., 41.]],\n",
      "\n",
      "         [[42., 43., 44.],\n",
      "          [45., 46., 47.]],\n",
      "\n",
      "         [[48., 49., 50.],\n",
      "          [51., 52., 53.]],\n",
      "\n",
      "         [[54., 55., 56.],\n",
      "          [57., 58., 59.]]]])\n",
      "y2 torch.Size([1, 5, 2, 3]) tensor([[[[270., 280., 290.],\n",
      "          [300., 310., 320.]],\n",
      "\n",
      "         [[270., 280., 290.],\n",
      "          [300., 310., 320.]],\n",
      "\n",
      "         [[270., 280., 290.],\n",
      "          [300., 310., 320.]],\n",
      "\n",
      "         [[270., 280., 290.],\n",
      "          [300., 310., 320.]],\n",
      "\n",
      "         [[270., 280., 290.],\n",
      "          [300., 310., 320.]]]], grad_fn=<ConvolutionBackward0>)\n",
      "y2_ torch.Size([1, 5, 2, 3]) tensor([[[[270., 280., 290.],\n",
      "          [300., 310., 320.]],\n",
      "\n",
      "         [[270., 280., 290.],\n",
      "          [300., 310., 320.]],\n",
      "\n",
      "         [[270., 280., 290.],\n",
      "          [300., 310., 320.]],\n",
      "\n",
      "         [[270., 280., 290.],\n",
      "          [300., 310., 320.]],\n",
      "\n",
      "         [[270., 280., 290.],\n",
      "          [300., 310., 320.]]]], grad_fn=<CopySlices>)\n"
     ]
    }
   ],
   "source": [
    "conv2 = nn.Conv2d(10, 5, kernel_size=1, padding=0, bias=False)\n",
    "nn.init.constant_(conv2.weight, 1)\n",
    "print('conv2', conv2.weight.shape)\n",
    "\n",
    "x = torch.arange(60.0, dtype=torch.float)\n",
    "\n",
    "x2 = torch.reshape(x, (1, 10, 2, 3))\n",
    "print('x2', x2.shape, x2)\n",
    "\n",
    "y2 = conv2(x2)\n",
    "print('y2', y2.shape, y2)\n",
    "\n",
    "def conv_2d(input: Tensor, weight: Tensor):\n",
    "    # input = (batch, input_channels, iH, iW)\n",
    "    # weight = (output_channels, input_channels, kH, kW)\n",
    "    (_, _, kH, kW) = weight.shape\n",
    "    (_, _, iH, iW) = input.shape\n",
    "    o = torch.zeros(input.shape[0], weight.shape[0], iH - kH + 1, iW - kH + 1)  # (batch, output_channels, iH - kH + 1, iW - kH + 1) = 1, 5, 1, 1\n",
    "    \n",
    "    for batch in range(o.shape[0]): # batch\n",
    "        for oc in range(o.shape[1]): # output_channels\n",
    "            for ic in range(input.shape[1]):\n",
    "                for i in range(o.shape[2]):\n",
    "                    for j in range(o.shape[3]):\n",
    "                        o[batch, oc, i, j] += (weight[oc, ic, :, :] * input[batch, ic, i:i+kH, j:j+kW]).sum()    \n",
    "    return o    \n",
    "\n",
    "\n",
    "y2_ = conv_2d(x2, conv2.weight)\n",
    "print('y2_', y2_.shape, y2_)"
   ]
  }
 ],
 "metadata": {
  "kernelspec": {
   "display_name": "venv",
   "language": "python",
   "name": "python3"
  },
  "language_info": {
   "codemirror_mode": {
    "name": "ipython",
    "version": 3
   },
   "file_extension": ".py",
   "mimetype": "text/x-python",
   "name": "python",
   "nbconvert_exporter": "python",
   "pygments_lexer": "ipython3",
   "version": "3.8.10"
  }
 },
 "nbformat": 4,
 "nbformat_minor": 2
}
