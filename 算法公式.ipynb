{
 "cells": [
  {
   "cell_type": "markdown",
   "metadata": {},
   "source": [
    "## 1.算术平均值"
   ]
  },
  {
   "cell_type": "markdown",
   "metadata": {},
   "source": [
    "算术平均数（Arithmetic mean）是表征数据集中趋势的一个统计指标。 它是一组数据之和,除以这组数据个数/项数。\n",
    "算术平均数在统计学上的优点,就是它较中位数、众数更少受到随机因素影响， 缺点是它更容易受到极端值影响。"
   ]
  },
  {
   "cell_type": "markdown",
   "metadata": {},
   "source": [
    "$${\\bar  {x}}={\\frac  {\\sum _{{i=1}}^{n}x_{i}}{n}}={\\frac  {x_{1}+x_{2}+\\cdots +x_{n}}{n}}$$\n",
    "Σ为总计的符号,$x$为变量,$\\bar{x}$为算术平均数,n为变量值的个数,i为迭代变量"
   ]
  },
  {
   "cell_type": "markdown",
   "metadata": {},
   "source": [
    "## 2.平均绝对偏差"
   ]
  },
  {
   "cell_type": "markdown",
   "metadata": {},
   "source": [
    "平均绝对偏差（Mean Absolute Deviation 或 Average Absolute Deviation）是表示各个变量值之间差异程度的数值之一。指各个变量值同平均数的的离差绝对值的算术平均数。\n",
    "\n",
    "对于一个数据集${\\displaystyle X=\\{x_{1},x_{2},\\dots ,x_{n}\\}}$，其平均绝对偏差定义为："
   ]
  },
  {
   "cell_type": "markdown",
   "metadata": {},
   "source": [
    "$$平均绝对偏差（MAD） = {\\displaystyle {\\frac {1}{n}}\\sum _{i=1}^{n}\\left\\vert x_{i}-m(X)\\right\\vert }$$\n",
    "其中${\\displaystyle n}$为数据集的大小，${\\displaystyle m(X)}$是对于数据集中心趋势（central tendency）的描述函数，一般可以取均值（mean）、中位数（median）或者众数（mode），但需要注意的是，选取不同的中心描述函数对MAD的结果是有影响的。"
   ]
  },
  {
   "cell_type": "markdown",
   "metadata": {},
   "source": [
    "## 3. 移动平均值"
   ]
  },
  {
   "cell_type": "markdown",
   "metadata": {},
   "source": [
    "$$??=\\frac{\\frac{\\frac{\\frac{x_1+x_2}{2}+x_3}{2}+x_4}{2}+\\cdots+x_n}{2}$$"
   ]
  },
  {
   "cell_type": "markdown",
   "metadata": {},
   "source": []
  },
  {
   "cell_type": "code",
   "execution_count": null,
   "metadata": {},
   "outputs": [],
   "source": []
  }
 ],
 "metadata": {
  "kernelspec": {
   "display_name": "Python 3",
   "language": "python",
   "name": "python3"
  },
  "language_info": {
   "codemirror_mode": {
    "name": "ipython",
    "version": 3
   },
   "file_extension": ".py",
   "mimetype": "text/x-python",
   "name": "python",
   "nbconvert_exporter": "python",
   "pygments_lexer": "ipython3",
   "version": "3.8.5"
  },
  "varInspector": {
   "cols": {
    "lenName": 16,
    "lenType": 16,
    "lenVar": 40
   },
   "kernels_config": {
    "python": {
     "delete_cmd_postfix": "",
     "delete_cmd_prefix": "del ",
     "library": "var_list.py",
     "varRefreshCmd": "print(var_dic_list())"
    },
    "r": {
     "delete_cmd_postfix": ") ",
     "delete_cmd_prefix": "rm(",
     "library": "var_list.r",
     "varRefreshCmd": "cat(var_dic_list()) "
    }
   },
   "types_to_exclude": [
    "module",
    "function",
    "builtin_function_or_method",
    "instance",
    "_Feature"
   ],
   "window_display": false
  }
 },
 "nbformat": 4,
 "nbformat_minor": 4
}
