{
 "cells": [
  {
   "cell_type": "markdown",
   "metadata": {},
   "source": [
    "|说明|符号|代码|\n",
    "|---|---|---|\n",
    "|上标|$x^2$|`$x^2$`|\n",
    "|多字符上标|$e^{2x}$|`$e^{2x}$`|\n",
    "|下标|$x_i$|`$x_i$`|\n",
    "|前置下标|$_{10}C_5$|`$_{10}C_5$`|\n",
    "|根号|$\\sqrt{2\\pi}$|`$\\sqrt{2\\pi}$`|\n",
    "|分数|$\\frac{a}{b}$|`$\\frac{a}{b}$`|\n",
    "|积分|$\\int f(x)\\;dx$|`$\\int f(x)\\;dx$`|\n",
    "|小写符号|$\\alpha, \\beta, \\gamma$|`$\\alpha, \\beta, \\gamma$`|\n",
    "|大写符号|$\\Phi, \\Lambda, \\Gamma$|`$\\Phi, \\Lambda, \\Gamma$`|\n",
    "|算法符号|$\\times, \\pm, \\cup, \\oplus$|`$\\times, \\pm, \\cup, \\oplus$`|\n",
    "|三角函数|$\\sin, \\cosh, \\arctan$|`$\\sin, \\cosh, \\arctan$`|\n",
    "|判断符号|$\\leq, \\geq, \\approx, \\neq$|`$\\leq, \\geq, \\approx, \\neq$`|\n",
    "|无穷符号|$\\infty, \\nabla, \\partial $|`$\\infty, \\nabla, \\partial $`|"
   ]
  }
 ],
 "metadata": {
  "language_info": {
   "name": "python"
  }
 },
 "nbformat": 4,
 "nbformat_minor": 2
}
