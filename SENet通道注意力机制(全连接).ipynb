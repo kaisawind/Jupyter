{
 "cells": [
  {
   "cell_type": "markdown",
   "metadata": {},
   "source": [
    "# SENet通道注意力机制\n",
    "\n",
    "建模出不同通道之间的相关性，通过网络学习的方式来自动获取到每个特征通道的重要程度，最后再为每个通道赋予不同的权重系数，从而来强化重要的特征抑制非重要的特征。"
   ]
  },
  {
   "cell_type": "markdown",
   "metadata": {},
   "source": [
    "## 1. 计算过程\n",
    "\n",
    "* 1. 全局平均池化\n",
    "\n",
    "    将每个通道的二维特征(H*W)压缩为1个实数，将特征图从 (B, C, H, W) ----> (B, C, 1, 1)\n",
    "\n",
    "* 2. 给每个特征通道生成一个权重值\n",
    "\n",
    "    通过两个全连接层构建通道间的相关性，输出的权重值数目和输入特征图的通道数相同\n",
    "\n",
    "* 3. 归一化权重加权到每个通道的特征上\n",
    "\n",
    "    逐通道乘以权重系数"
   ]
  },
  {
   "cell_type": "markdown",
   "metadata": {},
   "source": [
    "## 2. 代码实现"
   ]
  },
  {
   "cell_type": "code",
   "execution_count": 14,
   "metadata": {},
   "outputs": [],
   "source": [
    "from torch import nn\n",
    "import torch\n",
    "\n",
    "\n",
    "class SEBlock(nn.Module):\n",
    "    \"\"\"通道注意力机制\n",
    "\n",
    "    Args:\n",
    "        nn (_type_): _description_\n",
    "    \"\"\"\n",
    "\n",
    "    def __init__(self, channel, reduction=8, bias=False):\n",
    "        super(SEBlock, self).__init__()\n",
    "        # 先在H*W维度进行压缩，全局平均池化将每个通道平均为一个值\n",
    "        # (B, C, H, W) ---- (B, C, 1, 1)\n",
    "        self.avg_pool = nn.AdaptiveAvgPool2d(1)  # 自适应全局池化\n",
    "\n",
    "        # 利用各channel维度的相关性计算权重\n",
    "        # (B, C) --- (B, C//K) --- (B, C) --- sigmoid\n",
    "        self.fc1 = nn.Sequential(\n",
    "            nn.Linear(channel, channel // reduction, bias=bias),\n",
    "            nn.ReLU(inplace=True),\n",
    "            nn.Linear(channel // reduction, channel, bias=bias),\n",
    "            nn.Sigmoid(),\n",
    "        )\n",
    "\n",
    "    def forward(self, x):\n",
    "        b, c, _, _ = x.size()\n",
    "        y = self.avg_pool(x).view(b, c)\n",
    "        print(y.shape)\n",
    "        y_out = self.fc1(y).view(b, c, 1, 1)\n",
    "        return x * y_out"
   ]
  },
  {
   "cell_type": "markdown",
   "metadata": {},
   "source": [
    "### 3. 验证"
   ]
  },
  {
   "cell_type": "code",
   "execution_count": 15,
   "metadata": {},
   "outputs": [
    {
     "name": "stdout",
     "output_type": "stream",
     "text": [
      "torch.Size([1, 64])\n",
      "torch.Size([1, 64, 102, 102])\n",
      "torch.Size([1, 64, 102, 102])\n"
     ]
    }
   ],
   "source": [
    "se_block = SEBlock(64)\n",
    "\n",
    "x = torch.randn(1, 64, 102, 102)\n",
    "\n",
    "y = se_block.forward(x)\n",
    "\n",
    "print(x.shape)\n",
    "print(y.shape)"
   ]
  }
 ],
 "metadata": {
  "kernelspec": {
   "display_name": "venv",
   "language": "python",
   "name": "python3"
  },
  "language_info": {
   "codemirror_mode": {
    "name": "ipython",
    "version": 3
   },
   "file_extension": ".py",
   "mimetype": "text/x-python",
   "name": "python",
   "nbconvert_exporter": "python",
   "pygments_lexer": "ipython3",
   "version": "3.8.10"
  }
 },
 "nbformat": 4,
 "nbformat_minor": 2
}
